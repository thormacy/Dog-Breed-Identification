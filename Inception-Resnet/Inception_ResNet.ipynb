{
 "cells": [
  {
   "cell_type": "code",
   "execution_count": 1,
   "metadata": {},
   "outputs": [
    {
     "name": "stderr",
     "output_type": "stream",
     "text": [
      "/Library/Frameworks/Python.framework/Versions/3.6/lib/python3.6/site-packages/h5py/__init__.py:36: FutureWarning: Conversion of the second argument of issubdtype from `float` to `np.floating` is deprecated. In future, it will be treated as `np.float64 == np.dtype(float).type`.\n",
      "  from ._conv import register_converters as _register_converters\n"
     ]
    }
   ],
   "source": [
    "import shutil\n",
    "import mxnet as mx\n",
    "from mxnet import autograd\n",
    "from mxnet import gluon\n",
    "from mxnet import image\n",
    "from mxnet import init\n",
    "from mxnet import nd\n",
    "from mxnet.gluon import nn\n",
    "from mxnet.gluon.data import vision\n",
    "from mxnet.gluon.model_zoo import vision as models\n",
    "from mxnet.gluon.model_zoo.model_store import _model_sha1\n",
    "import numpy as np\n",
    "import pandas as pd\n",
    "from tqdm import tqdm\n",
    "import cv2\n",
    "import h5py\n",
    "import os\n",
    "from glob import glob\n",
    "import matplotlib.pyplot as plt\n",
    "\n",
    "%matplotlib inline\n",
    "%config InlineBackend.figure_format = 'retina'\n",
    "\n",
    "ctx = [mx.cpu()]"
   ]
  },
  {
   "cell_type": "code",
   "execution_count": 2,
   "metadata": {},
   "outputs": [],
   "source": [
    "#Pre-process train images\n",
    "df = pd.read_csv('labels.csv')\n",
    "path = 'for_train'\n",
    "\n",
    "if os.path.exists(path):\n",
    "    shutil.rmtree(path)\n",
    "\n",
    "for i, (fname, breed) in df.iterrows():\n",
    "    path2 = '%s/%s' % (path, breed)\n",
    "    if not os.path.exists(path2):\n",
    "        os.makedirs(path2)\n",
    "    os.symlink('../../train/%s.jpg' % fname, '%s/%s.jpg' % (path2, fname))"
   ]
  },
  {
   "cell_type": "code",
   "execution_count": 3,
   "metadata": {},
   "outputs": [],
   "source": [
    "#Pre-process test images\n",
    "df = pd.read_csv('sample_submission.csv')\n",
    "path = 'for_test'\n",
    "breed = '0'\n",
    "\n",
    "if os.path.exists(path):\n",
    "    shutil.rmtree(path)\n",
    "\n",
    "for fname in df['id']:\n",
    "    path2 = '%s/%s' % (path, breed)\n",
    "    if not os.path.exists(path2):\n",
    "        os.makedirs(path2)\n",
    "    os.symlink('../../test/%s.jpg' % fname, '%s/%s.jpg' % (path2, fname))"
   ]
  },
  {
   "cell_type": "code",
   "execution_count": 5,
   "metadata": {},
   "outputs": [],
   "source": [
    "#Loading pre-saved files if they exist\n",
    "\n",
    "X_224, X_299, y = nd.load('train.nd')\n",
    "X_224_test, X_299_test = nd.load('test.nd')"
   ]
  },
  {
   "cell_type": "code",
   "execution_count": 6,
   "metadata": {},
   "outputs": [],
   "source": [
    "#function for extracting bottleneck features\n",
    "def save_features(model_name, data_train_iter, data_test_iter, ignore=False):\n",
    "    if os.path.exists('features_train_%s.nd' % model_name) and ignore:\n",
    "        if os.path.exists('features_test_%s.nd' % model_name):\n",
    "            return\n",
    "    \n",
    "    net = models.get_model(model_name, pretrained=True, ctx=ctx)\n",
    "    \n",
    "    for prefix, data_iter in zip(['train', 'test'], [data_train_iter, data_test_iter]):\n",
    "        features = []\n",
    "        for data in tqdm(data_iter):\n",
    "            for data_slice in gluon.utils.split_and_load(data, ctx, even_split=False):\n",
    "                feature = net.features(data_slice)\n",
    "                if 'squeezenet' in model_name:\n",
    "                    feature = gluon.nn.GlobalAvgPool2D()(feature)\n",
    "                feature = gluon.nn.Flatten()(feature)\n",
    "                features.append(feature.as_in_context(mx.cpu()))\n",
    "            nd.waitall()\n",
    "        \n",
    "        features = nd.concat(*features, dim=0)\n",
    "        nd.save('features_%s_%s.nd' % (prefix, model_name), features)"
   ]
  },
  {
   "cell_type": "code",
   "execution_count": 7,
   "metadata": {},
   "outputs": [],
   "source": [
    "#Load data to DataLoader\n",
    "batch_size = 128\n",
    "\n",
    "data_iter_224 = gluon.data.DataLoader(gluon.data.ArrayDataset(X_224), batch_size=batch_size)\n",
    "data_iter_299 = gluon.data.DataLoader(gluon.data.ArrayDataset(X_299), batch_size=batch_size)\n",
    "\n",
    "data_test_iter_224 = gluon.data.DataLoader(gluon.data.ArrayDataset(X_224_test), batch_size=batch_size)\n",
    "data_test_iter_299 = gluon.data.DataLoader(gluon.data.ArrayDataset(X_299_test), batch_size=batch_size)"
   ]
  },
  {
   "cell_type": "code",
   "execution_count": 8,
   "metadata": {},
   "outputs": [
    {
     "name": "stdout",
     "output_type": "stream",
     "text": [
      "alexnet\n",
      "densenet121\n",
      "densenet161\n",
      "densenet169\n",
      "densenet201\n",
      "inceptionv3\n"
     ]
    },
    {
     "name": "stderr",
     "output_type": "stream",
     "text": [
      "100%|██████████| 80/80 [28:17<00:00, 21.22s/it]\n",
      "100%|██████████| 81/81 [28:26<00:00, 21.06s/it]\n"
     ]
    },
    {
     "name": "stdout",
     "output_type": "stream",
     "text": [
      "mobilenet0.25\n",
      "mobilenet0.5\n",
      "mobilenet0.75\n",
      "mobilenet1.0\n",
      "resnet101_v1\n",
      "resnet101_v2\n",
      "resnet152_v1\n"
     ]
    },
    {
     "name": "stderr",
     "output_type": "stream",
     "text": [
      "100%|██████████| 80/80 [44:43<00:00, 33.55s/it]\n",
      "100%|██████████| 81/81 [46:56<00:00, 34.77s/it]\n"
     ]
    },
    {
     "name": "stdout",
     "output_type": "stream",
     "text": [
      "resnet152_v2\n",
      "resnet18_v1\n",
      "resnet18_v2\n",
      "resnet34_v1\n",
      "resnet34_v2\n",
      "resnet50_v1\n",
      "resnet50_v2\n",
      "squeezenet1.0\n",
      "squeezenet1.1\n",
      "vgg11\n",
      "vgg11_bn\n",
      "vgg13\n",
      "vgg13_bn\n",
      "vgg16\n",
      "vgg16_bn\n",
      "vgg19\n",
      "vgg19_bn\n"
     ]
    }
   ],
   "source": [
    "#Extracting bottleneck features\n",
    "for model in sorted(_model_sha1.keys()):\n",
    "    print (model)\n",
    "    if model == 'inceptionv3':\n",
    "        save_features(model, data_iter_299, data_test_iter_299)\n",
    "    if model == 'resnet152_v1':\n",
    "        save_features(model, data_iter_224, data_test_iter_224)"
   ]
  },
  {
   "cell_type": "code",
   "execution_count": 9,
   "metadata": {},
   "outputs": [
    {
     "name": "stderr",
     "output_type": "stream",
     "text": [
      "100%|██████████| 20580/20580 [03:35<00:00, 95.40it/s]\n"
     ]
    }
   ],
   "source": [
    "#Load Dataset \n",
    "df = pd.read_csv('sample_submission.csv')\n",
    "synset = list(df.columns[1:])\n",
    "\n",
    "n = len(glob('Images/*/*.jpg'))\n",
    "X_224 = nd.zeros((n, 3, 224, 224))\n",
    "X_299 = nd.zeros((n, 3, 299, 299))\n",
    "y = nd.zeros((n,))\n",
    "\n",
    "mean = np.array([0.485, 0.456, 0.406])\n",
    "std = np.array([0.229, 0.224, 0.225])\n",
    "\n",
    "for i, file_name in tqdm(enumerate(glob('Images/*/*.jpg')), total=n):\n",
    "    img = cv2.imread(file_name)\n",
    "    img_224 = ((cv2.resize(img, (224, 224))[:,:,::-1] / 255.0 - mean) / std).transpose((2, 0, 1))\n",
    "    img_299 = ((cv2.resize(img, (299, 299))[:,:,::-1] / 255.0 - mean) / std).transpose((2, 0, 1))\n",
    "    \n",
    "    X_224[i] = nd.array(img_224)\n",
    "    X_299[i] = nd.array(img_299)\n",
    "    \n",
    "    y[i] = synset.index(file_name.split('/')[1][10:].lower())\n",
    "    \n",
    "    nd.waitall()"
   ]
  },
  {
   "cell_type": "code",
   "execution_count": 10,
   "metadata": {},
   "outputs": [],
   "source": [
    "#Function for acquiring bottleneck features\n",
    "def get_features(model_name, data_iter):\n",
    "    net = models.get_model(model_name, pretrained=True, ctx=ctx)\n",
    "    features = []\n",
    "    for data in tqdm(data_iter):\n",
    "        for data_slice in gluon.utils.split_and_load(data, ctx, even_split=False):\n",
    "            feature = net.features(data_slice)\n",
    "            feature = gluon.nn.Flatten()(feature)\n",
    "            features.append(feature.as_in_context(mx.cpu()))\n",
    "        nd.waitall()\n",
    "\n",
    "    features = nd.concat(*features, dim=0)\n",
    "    return features"
   ]
  },
  {
   "cell_type": "code",
   "execution_count": 11,
   "metadata": {},
   "outputs": [
    {
     "name": "stderr",
     "output_type": "stream",
     "text": [
      "100%|██████████| 161/161 [58:09<00:00, 21.68s/it]\n",
      "100%|██████████| 161/161 [1:28:14<00:00, 32.89s/it]\n"
     ]
    }
   ],
   "source": [
    "#Getting bottleneck features from inception and resnet. Then concatenate them.\n",
    "batch_size = 128\n",
    "\n",
    "data_iter_224 = gluon.data.DataLoader(gluon.data.ArrayDataset(X_224), batch_size=batch_size)\n",
    "data_iter_299 = gluon.data.DataLoader(gluon.data.ArrayDataset(X_299), batch_size=batch_size)\n",
    "\n",
    "model_names = ['inceptionv3', 'resnet152_v1']\n",
    "\n",
    "features = []\n",
    "for model_name in model_names:\n",
    "    if model_name == 'inceptionv3':\n",
    "        features.append(get_features(model_name, data_iter_299))\n",
    "    else:\n",
    "        features.append(get_features(model_name, data_iter_224))\n",
    "        \n",
    "features = nd.concat(*features, dim=1)\n",
    "data_iter_train = gluon.data.DataLoader(gluon.data.ArrayDataset(features, y), batch_size, shuffle=True)"
   ]
  },
  {
   "cell_type": "code",
   "execution_count": 14,
   "metadata": {},
   "outputs": [],
   "source": [
    "# Helper functions for building the model, getting accuracy and evaluation\n",
    "def build_model():\n",
    "    net = nn.Sequential()\n",
    "    with net.name_scope():\n",
    "        net.add(nn.BatchNorm())\n",
    "        net.add(nn.Dense(1024))\n",
    "        net.add(nn.BatchNorm())\n",
    "        net.add(nn.Activation('relu'))\n",
    "        net.add(nn.Dropout(0.5))\n",
    "        net.add(nn.Dense(120))\n",
    "\n",
    "    net.initialize(ctx=ctx)\n",
    "    return net\n",
    "\n",
    "ctx = mx.cpu()\n",
    "softmax_cross_entropy = gluon.loss.SoftmaxCrossEntropyLoss()\n",
    "\n",
    "def accuracy(output, labels):\n",
    "    return nd.mean(nd.argmax(output, axis=1) == labels).asscalar()\n",
    "\n",
    "def evaluate(net, data_iter):\n",
    "    loss, acc, n = 0., 0., 0.\n",
    "    steps = len(data_iter)\n",
    "    for data, label in data_iter:\n",
    "        data, label = data.as_in_context(ctx), label.as_in_context(ctx)\n",
    "        output = net(data)\n",
    "        acc += accuracy(output, label)\n",
    "        loss += nd.mean(softmax_cross_entropy(output, label)).asscalar()\n",
    "    return loss/steps, acc/steps"
   ]
  },
  {
   "cell_type": "code",
   "execution_count": 15,
   "metadata": {},
   "outputs": [
    {
     "name": "stdout",
     "output_type": "stream",
     "text": [
      "Epoch 1. loss: 0.6046, acc: 83.94%\n",
      "Epoch 2. loss: 0.2498, acc: 91.88%\n",
      "Epoch 3. loss: 0.1827, acc: 94.05%\n",
      "Epoch 4. loss: 0.1484, acc: 95.01%\n",
      "Epoch 5. loss: 0.1202, acc: 95.81%\n",
      "Epoch 6. loss: 0.1044, acc: 96.63%\n",
      "Epoch 7. loss: 0.0861, acc: 97.04%\n",
      "Epoch 8. loss: 0.0782, acc: 97.43%\n",
      "Epoch 9. loss: 0.0634, acc: 97.87%\n",
      "Epoch 10. loss: 0.0526, acc: 98.19%\n",
      "Epoch 11. loss: 0.0352, acc: 98.86%\n",
      "Epoch 12. loss: 0.0316, acc: 99.04%\n",
      "Epoch 13. loss: 0.0288, acc: 99.20%\n",
      "Epoch 14. loss: 0.0254, acc: 99.33%\n",
      "Epoch 15. loss: 0.0254, acc: 99.25%\n",
      "Epoch 16. loss: 0.0240, acc: 99.36%\n",
      "Epoch 17. loss: 0.0228, acc: 99.44%\n",
      "Epoch 18. loss: 0.0238, acc: 99.34%\n",
      "Epoch 19. loss: 0.0207, acc: 99.36%\n",
      "Epoch 20. loss: 0.0163, acc: 99.58%\n",
      "Epoch 21. loss: 0.0166, acc: 99.60%\n",
      "Epoch 22. loss: 0.0148, acc: 99.65%\n",
      "Epoch 23. loss: 0.0145, acc: 99.63%\n",
      "Epoch 24. loss: 0.0142, acc: 99.63%\n",
      "Epoch 25. loss: 0.0130, acc: 99.66%\n",
      "Epoch 26. loss: 0.0139, acc: 99.60%\n",
      "Epoch 27. loss: 0.0142, acc: 99.59%\n",
      "Epoch 28. loss: 0.0132, acc: 99.64%\n",
      "Epoch 29. loss: 0.0113, acc: 99.72%\n",
      "Epoch 30. loss: 0.0109, acc: 99.72%\n",
      "Epoch 31. loss: 0.0087, acc: 99.76%\n",
      "Epoch 32. loss: 0.0101, acc: 99.71%\n",
      "Epoch 33. loss: 0.0089, acc: 99.73%\n",
      "Epoch 34. loss: 0.0087, acc: 99.74%\n",
      "Epoch 35. loss: 0.0106, acc: 99.73%\n",
      "Epoch 36. loss: 0.0112, acc: 99.67%\n",
      "Epoch 37. loss: 0.0111, acc: 99.68%\n",
      "Epoch 38. loss: 0.0092, acc: 99.71%\n",
      "Epoch 39. loss: 0.0076, acc: 99.77%\n",
      "Epoch 40. loss: 0.0085, acc: 99.77%\n",
      "Epoch 41. loss: 0.0078, acc: 99.77%\n",
      "Epoch 42. loss: 0.0073, acc: 99.79%\n",
      "Epoch 43. loss: 0.0084, acc: 99.72%\n",
      "Epoch 44. loss: 0.0076, acc: 99.77%\n",
      "Epoch 45. loss: 0.0073, acc: 99.74%\n",
      "Epoch 46. loss: 0.0069, acc: 99.76%\n",
      "Epoch 47. loss: 0.0068, acc: 99.78%\n",
      "Epoch 48. loss: 0.0066, acc: 99.81%\n",
      "Epoch 49. loss: 0.0071, acc: 99.77%\n",
      "Epoch 50. loss: 0.0059, acc: 99.80%\n",
      "Epoch 51. loss: 0.0058, acc: 99.80%\n",
      "Epoch 52. loss: 0.0063, acc: 99.79%\n",
      "Epoch 53. loss: 0.0072, acc: 99.76%\n",
      "Epoch 54. loss: 0.0062, acc: 99.83%\n",
      "Epoch 55. loss: 0.0065, acc: 99.82%\n",
      "Epoch 56. loss: 0.0063, acc: 99.80%\n",
      "Epoch 57. loss: 0.0052, acc: 99.84%\n",
      "Epoch 58. loss: 0.0059, acc: 99.79%\n",
      "Epoch 59. loss: 0.0061, acc: 99.79%\n",
      "Epoch 60. loss: 0.0062, acc: 99.79%\n",
      "Epoch 61. loss: 0.0061, acc: 99.79%\n",
      "Epoch 62. loss: 0.0055, acc: 99.79%\n",
      "Epoch 63. loss: 0.0067, acc: 99.77%\n",
      "Epoch 64. loss: 0.0059, acc: 99.78%\n",
      "Epoch 65. loss: 0.0057, acc: 99.79%\n",
      "Epoch 66. loss: 0.0056, acc: 99.81%\n",
      "Epoch 67. loss: 0.0064, acc: 99.77%\n",
      "Epoch 68. loss: 0.0055, acc: 99.81%\n",
      "Epoch 69. loss: 0.0060, acc: 99.80%\n",
      "Epoch 70. loss: 0.0052, acc: 99.82%\n",
      "Epoch 71. loss: 0.0062, acc: 99.79%\n",
      "Epoch 72. loss: 0.0051, acc: 99.83%\n",
      "Epoch 73. loss: 0.0051, acc: 99.82%\n",
      "Epoch 74. loss: 0.0064, acc: 99.76%\n",
      "Epoch 75. loss: 0.0058, acc: 99.77%\n",
      "Epoch 76. loss: 0.0064, acc: 99.79%\n",
      "Epoch 77. loss: 0.0049, acc: 99.80%\n",
      "Epoch 78. loss: 0.0050, acc: 99.81%\n",
      "Epoch 79. loss: 0.0055, acc: 99.80%\n",
      "Epoch 80. loss: 0.0060, acc: 99.82%\n",
      "Epoch 81. loss: 0.0062, acc: 99.77%\n",
      "Epoch 82. loss: 0.0055, acc: 99.78%\n",
      "Epoch 83. loss: 0.0051, acc: 99.82%\n",
      "Epoch 84. loss: 0.0057, acc: 99.81%\n",
      "Epoch 85. loss: 0.0050, acc: 99.82%\n",
      "Epoch 86. loss: 0.0054, acc: 99.79%\n",
      "Epoch 87. loss: 0.0043, acc: 99.87%\n",
      "Epoch 88. loss: 0.0060, acc: 99.78%\n",
      "Epoch 89. loss: 0.0055, acc: 99.83%\n",
      "Epoch 90. loss: 0.0054, acc: 99.80%\n",
      "Epoch 91. loss: 0.0052, acc: 99.81%\n",
      "Epoch 92. loss: 0.0056, acc: 99.81%\n",
      "Epoch 93. loss: 0.0058, acc: 99.77%\n",
      "Epoch 94. loss: 0.0058, acc: 99.77%\n",
      "Epoch 95. loss: 0.0053, acc: 99.82%\n",
      "Epoch 96. loss: 0.0054, acc: 99.79%\n",
      "Epoch 97. loss: 0.0056, acc: 99.80%\n",
      "Epoch 98. loss: 0.0056, acc: 99.80%\n",
      "Epoch 99. loss: 0.0053, acc: 99.82%\n",
      "Epoch 100. loss: 0.0053, acc: 99.83%\n"
     ]
    }
   ],
   "source": [
    "#Training the model\n",
    "net = build_model()\n",
    "\n",
    "epochs = 100\n",
    "batch_size = 128\n",
    "lr_sch = mx.lr_scheduler.FactorScheduler(step=1500, factor=0.5)\n",
    "trainer = gluon.Trainer(net.collect_params(), 'adam', \n",
    "                        {'learning_rate': 1e-3, 'lr_scheduler': lr_sch})\n",
    "\n",
    "for epoch in range(epochs):\n",
    "    train_loss = 0.\n",
    "    train_acc = 0.\n",
    "    steps = len(data_iter_train)\n",
    "    for data, label in data_iter_train:\n",
    "        data, label = data.as_in_context(ctx), label.as_in_context(ctx)\n",
    "        with autograd.record():\n",
    "            output = net(data)\n",
    "            loss = softmax_cross_entropy(output, label)\n",
    "\n",
    "        loss.backward()\n",
    "        trainer.step(batch_size)\n",
    "\n",
    "        train_loss += nd.mean(loss).asscalar()\n",
    "        train_acc += accuracy(output, label)\n",
    "\n",
    "    print(\"Epoch %d. loss: %.4f, acc: %.2f%%\" % (epoch+1, train_loss/steps, train_acc/steps*100))"
   ]
  },
  {
   "cell_type": "code",
   "execution_count": 16,
   "metadata": {},
   "outputs": [],
   "source": [
    "#Load previous generated test bottleneck features\n",
    "features_test = [nd.load('features_test_%s.nd' % model_name)[0] for model_name in model_names]\n",
    "features_test = nd.concat(*features_test, dim=1)"
   ]
  },
  {
   "cell_type": "code",
   "execution_count": 17,
   "metadata": {},
   "outputs": [],
   "source": [
    "#Predict and then generate csv file\n",
    "output = nd.softmax(net(features_test.as_in_context(ctx))).asnumpy()\n",
    "df_pred = pd.read_csv('sample_submission.csv')\n",
    "\n",
    "for i, c in enumerate(df_pred.columns[1:]):\n",
    "    df_pred[c] = output[:,i]\n",
    "\n",
    "df_pred.to_csv('pred.csv', index=None)"
   ]
  },
  {
   "cell_type": "code",
   "execution_count": null,
   "metadata": {},
   "outputs": [],
   "source": []
  }
 ],
 "metadata": {
  "kernelspec": {
   "display_name": "Python 3",
   "language": "python",
   "name": "python3"
  },
  "language_info": {
   "codemirror_mode": {
    "name": "ipython",
    "version": 3
   },
   "file_extension": ".py",
   "mimetype": "text/x-python",
   "name": "python",
   "nbconvert_exporter": "python",
   "pygments_lexer": "ipython3",
   "version": "3.6.2"
  }
 },
 "nbformat": 4,
 "nbformat_minor": 2
}
