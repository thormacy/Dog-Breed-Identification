{
 "cells": [
  {
   "cell_type": "code",
   "execution_count": 1,
   "metadata": {},
   "outputs": [
    {
     "name": "stderr",
     "output_type": "stream",
     "text": [
      "/Users/junyan/anaconda2/lib/python2.7/site-packages/h5py/__init__.py:34: FutureWarning: Conversion of the second argument of issubdtype from `float` to `np.floating` is deprecated. In future, it will be treated as `np.float64 == np.dtype(float).type`.\n",
      "  from ._conv import register_converters as _register_converters\n",
      "Using TensorFlow backend.\n"
     ]
    }
   ],
   "source": [
    "import numpy as np \n",
    "import pandas as pd\n",
    "import matplotlib.pyplot as plt\n",
    "\n",
    "from keras.preprocessing.image import ImageDataGenerator\n",
    "from keras.applications.xception import Xception\n",
    "from keras.applications.inception_v3 import InceptionV3\n",
    "\n",
    "from keras.applications.xception import preprocess_input as xception_preprocessor\n",
    "from keras.applications.inception_v3 import preprocess_input as inception_v3_preprocessor\n",
    "\n",
    "from sklearn.metrics import log_loss, accuracy_score\n",
    "from keras.layers import Input, Dense, GlobalAveragePooling2D, Dropout\n",
    "from keras.layers.normalization import BatchNormalization\n",
    "from keras.models import Model\n",
    "from keras import regularizers\n",
    "\n",
    "from keras.optimizers import Adam\n",
    "from keras.metrics import categorical_crossentropy"
   ]
  },
  {
   "cell_type": "markdown",
   "metadata": {},
   "source": [
    "# Load training data"
   ]
  },
  {
   "cell_type": "code",
   "execution_count": 2,
   "metadata": {
    "collapsed": true
   },
   "outputs": [],
   "source": [
    "LABELS = \"/Users/junyan/Downloads/Homework/DeepLearning/Project/data/labels.csv\"\n",
    "\n",
    "train_df = pd.read_csv(LABELS)\n",
    "\n",
    "top_breeds = sorted(list(train_df['breed'].value_counts().head(120).index))\n",
    "train_df = train_df[train_df['breed'].isin(top_breeds)]\n"
   ]
  },
  {
   "cell_type": "code",
   "execution_count": 3,
   "metadata": {
    "collapsed": true
   },
   "outputs": [],
   "source": [
    "from keras.preprocessing.image import img_to_array\n",
    "from keras.preprocessing.image import load_img\n",
    "from sklearn.model_selection import train_test_split\n",
    "\n",
    "SEED = 1234\n",
    "\n",
    "TRAIN_FOLDER = \"/Users/junyan/Downloads/Homework/DeepLearning/Project/data/train/\"\n",
    "TEST_FOLDER = \"/Users/junyan/Downloads/Homework/DeepLearning/Project/data/test/\"\n",
    "\n",
    "DIM = 299\n",
    "\n",
    "train_df['image_path'] = train_df.apply( lambda x: ( TRAIN_FOLDER + x[\"id\"] + \".jpg\" ), axis=1 )\n",
    "\n",
    "train_data = np.array([ img_to_array(load_img(img, target_size=(DIM, DIM))) for img in train_df['image_path'].values.tolist()]).astype('float32')\n",
    "train_labels = train_df['breed']\n",
    "\n",
    "\n",
    "x_train, x_validation, y_train, y_validation = train_test_split(train_data, train_labels, test_size=0.2, stratify=np.array(train_labels), random_state=SEED)\n"
   ]
  },
  {
   "cell_type": "code",
   "execution_count": 4,
   "metadata": {},
   "outputs": [
    {
     "data": {
      "text/plain": [
       "(8177, 299, 299, 3)"
      ]
     },
     "execution_count": 4,
     "metadata": {},
     "output_type": "execute_result"
    }
   ],
   "source": [
    "x_train.shape"
   ]
  },
  {
   "cell_type": "markdown",
   "metadata": {},
   "source": [
    "One hot encoded"
   ]
  },
  {
   "cell_type": "code",
   "execution_count": 5,
   "metadata": {},
   "outputs": [
    {
     "name": "stdout",
     "output_type": "stream",
     "text": [
      "[0 0 0 0 0 0 0 0 0 0 0 0 0 0 0 0 0 0 0 0 0 0 0 0 0 0 0 0 0 0 0 0 0 0 0 0 0\n",
      " 0 0 0 0 0 0 0 0 0 0 0 0 0 0 0 0 0 0 0 0 0 0 0 0 0 0 0 0 0 0 0 0 0 0 0 0 0\n",
      " 0 0 0 0 0 0 0 0 0 0 0 0 0 0 0 0 0 0 0 0 0 0 0 0 0 0 0 0 0 0 0 0 0 0 0 0 0\n",
      " 0 0 0 0 0 0 1 0 0]\n"
     ]
    }
   ],
   "source": [
    "y_train = pd.get_dummies(y_train.reset_index(drop=True), columns=top_breeds).as_matrix()\n",
    "y_validation = pd.get_dummies(y_validation.reset_index(drop=True), columns=top_breeds).as_matrix()\n",
    "\n",
    "print(y_train[0])"
   ]
  },
  {
   "cell_type": "markdown",
   "metadata": {},
   "source": [
    "Load pretrained model's weight"
   ]
  },
  {
   "cell_type": "code",
   "execution_count": 6,
   "metadata": {},
   "outputs": [
    {
     "name": "stdout",
     "output_type": "stream",
     "text": [
      "Kuszma.JPG.zip\r\n",
      "imagenet_class_index.json\r\n",
      "inception_resnet_v2_weights_tf_dim_ordering_tf_kernels.h5.zip\r\n",
      "inception_resnet_v2_weights_tf_dim_ordering_tf_kernels_notop.h5.zip\r\n",
      "inception_v3_weights_tf_dim_ordering_tf_kernels.h5.zip\r\n",
      "inception_v3_weights_tf_dim_ordering_tf_kernels_notop.h5.zip\r\n",
      "resnet50_weights_tf_dim_ordering_tf_kernels.h5.zip\r\n",
      "resnet50_weights_tf_dim_ordering_tf_kernels_notop.h5.zip\r\n",
      "vgg16_weights_tf_dim_ordering_tf_kernels_notop.h5.zip\r\n",
      "xception_weights_tf_dim_ordering_tf_kernels.h5.zip\r\n",
      "xception_weights_tf_dim_ordering_tf_kernels_notop.h5.zip\r\n"
     ]
    }
   ],
   "source": [
    "from os import makedirs\n",
    "from os.path import expanduser, exists, join\n",
    "\n",
    "!ls /Users/junyan/Downloads/Homework/DeepLearning/Project/data/pretrained-model/\n",
    "\n",
    "cache_dir = expanduser(join('~', '.keras'))\n",
    "if not exists(cache_dir):\n",
    "    makedirs(cache_dir)\n",
    "models_dir = join(cache_dir, 'models')\n",
    "if not exists(models_dir):\n",
    "    makedirs(models_dir)\n",
    "    \n",
    "!cp /Users/junyan/Downloads/Homework/DeepLearning/Project/data/pretrained-model/*notop* ~/.keras/models/\n",
    "!cp /Users/junyan/Downloads/Homework/DeepLearning/Project/data/pretrained-model/imagenet_class_index.json ~/.keras/models/\n",
    "!cp /Users/junyan/Downloads/Homework/DeepLearning/Project/data/pretrained-model/resnet50* ~/.keras/models/"
   ]
  },
  {
   "cell_type": "markdown",
   "metadata": {},
   "source": [
    "# Build models and train"
   ]
  },
  {
   "cell_type": "code",
   "execution_count": 51,
   "metadata": {
    "scrolled": true
   },
   "outputs": [
    {
     "name": "stdout",
     "output_type": "stream",
     "text": [
      "Predicting : InceptionV3\n",
      "(8177, 2048)\n",
      "_________________________________________________________________\n",
      "Layer (type)                 Output Shape              Param #   \n",
      "=================================================================\n",
      "input_23 (InputLayer)        (None, 2048)              0         \n",
      "_________________________________________________________________\n",
      "dense_28 (Dense)             (None, 120)               245880    \n",
      "=================================================================\n",
      "Total params: 245,880\n",
      "Trainable params: 245,880\n",
      "Non-trainable params: 0\n",
      "_________________________________________________________________\n",
      "Train on 8177 samples, validate on 2045 samples\n",
      "Epoch 1/130\n",
      "8177/8177 [==============================] - 2s 303us/step - loss: 4.7133 - acc: 0.0295 - val_loss: 4.3887 - val_acc: 0.1022\n",
      "Epoch 2/130\n",
      "8177/8177 [==============================] - 0s 45us/step - loss: 4.2786 - acc: 0.1794 - val_loss: 3.9165 - val_acc: 0.3672\n",
      "Epoch 3/130\n",
      "8177/8177 [==============================] - 0s 46us/step - loss: 3.8853 - acc: 0.4020 - val_loss: 3.4664 - val_acc: 0.6044\n",
      "Epoch 4/130\n",
      "8177/8177 [==============================] - 0s 46us/step - loss: 3.5133 - acc: 0.5524 - val_loss: 3.0450 - val_acc: 0.7154\n",
      "Epoch 5/130\n",
      "8177/8177 [==============================] - 0s 45us/step - loss: 3.1688 - acc: 0.6191 - val_loss: 2.6562 - val_acc: 0.7751\n",
      "Epoch 6/130\n",
      "8177/8177 [==============================] - 0s 45us/step - loss: 2.8553 - acc: 0.6699 - val_loss: 2.3065 - val_acc: 0.8103\n",
      "Epoch 7/130\n",
      "8177/8177 [==============================] - 0s 45us/step - loss: 2.5763 - acc: 0.6923 - val_loss: 1.9997 - val_acc: 0.8274\n",
      "Epoch 8/130\n",
      "8177/8177 [==============================] - 0s 46us/step - loss: 2.3353 - acc: 0.7097 - val_loss: 1.7367 - val_acc: 0.8391\n",
      "Epoch 9/130\n",
      "8177/8177 [==============================] - 0s 45us/step - loss: 2.1297 - acc: 0.7201 - val_loss: 1.5172 - val_acc: 0.8504\n",
      "Epoch 10/130\n",
      "8177/8177 [==============================] - 0s 45us/step - loss: 1.9598 - acc: 0.7305 - val_loss: 1.3339 - val_acc: 0.8562\n",
      "Epoch 11/130\n",
      "8177/8177 [==============================] - 0s 44us/step - loss: 1.8180 - acc: 0.7378 - val_loss: 1.1845 - val_acc: 0.8626\n",
      "Epoch 12/130\n",
      "8177/8177 [==============================] - 0s 45us/step - loss: 1.7022 - acc: 0.7432 - val_loss: 1.0628 - val_acc: 0.8655\n",
      "Epoch 13/130\n",
      "8177/8177 [==============================] - 0s 44us/step - loss: 1.6071 - acc: 0.7494 - val_loss: 0.9630 - val_acc: 0.8729\n",
      "Epoch 14/130\n",
      "8177/8177 [==============================] - 0s 44us/step - loss: 1.5288 - acc: 0.7514 - val_loss: 0.8808 - val_acc: 0.8758\n",
      "Epoch 15/130\n",
      "8177/8177 [==============================] - 0s 45us/step - loss: 1.4635 - acc: 0.7552 - val_loss: 0.8133 - val_acc: 0.8758\n",
      "Epoch 16/130\n",
      "8177/8177 [==============================] - 0s 44us/step - loss: 1.4090 - acc: 0.7594 - val_loss: 0.7569 - val_acc: 0.8822\n",
      "Epoch 17/130\n",
      "8177/8177 [==============================] - 0s 45us/step - loss: 1.3630 - acc: 0.7592 - val_loss: 0.7088 - val_acc: 0.8802\n",
      "Epoch 18/130\n",
      "8177/8177 [==============================] - 0s 45us/step - loss: 1.3231 - acc: 0.7638 - val_loss: 0.6685 - val_acc: 0.8817\n",
      "Epoch 19/130\n",
      "8177/8177 [==============================] - 0s 46us/step - loss: 1.2890 - acc: 0.7651 - val_loss: 0.6344 - val_acc: 0.8831\n",
      "Epoch 20/130\n",
      "8177/8177 [==============================] - 0s 45us/step - loss: 1.2594 - acc: 0.7672 - val_loss: 0.6050 - val_acc: 0.8856\n",
      "Epoch 21/130\n",
      "8177/8177 [==============================] - 0s 47us/step - loss: 1.2331 - acc: 0.7680 - val_loss: 0.5789 - val_acc: 0.8866\n",
      "Epoch 22/130\n",
      "8177/8177 [==============================] - 0s 46us/step - loss: 1.2096 - acc: 0.7697 - val_loss: 0.5565 - val_acc: 0.8866\n",
      "Epoch 23/130\n",
      "8177/8177 [==============================] - 0s 45us/step - loss: 1.1890 - acc: 0.7717 - val_loss: 0.5369 - val_acc: 0.8861\n",
      "Epoch 24/130\n",
      "8177/8177 [==============================] - 0s 46us/step - loss: 1.1702 - acc: 0.7723 - val_loss: 0.5191 - val_acc: 0.8875\n",
      "Epoch 25/130\n",
      "8177/8177 [==============================] - 0s 46us/step - loss: 1.1529 - acc: 0.7751 - val_loss: 0.5039 - val_acc: 0.8890\n",
      "Epoch 26/130\n",
      "8177/8177 [==============================] - 0s 46us/step - loss: 1.1376 - acc: 0.7784 - val_loss: 0.4894 - val_acc: 0.8885\n",
      "Epoch 27/130\n",
      "8177/8177 [==============================] - 0s 47us/step - loss: 1.1234 - acc: 0.7779 - val_loss: 0.4774 - val_acc: 0.8895\n",
      "Epoch 28/130\n",
      "8177/8177 [==============================] - 0s 46us/step - loss: 1.1101 - acc: 0.7802 - val_loss: 0.4659 - val_acc: 0.8900\n",
      "Epoch 29/130\n",
      "8177/8177 [==============================] - 0s 46us/step - loss: 1.0981 - acc: 0.7813 - val_loss: 0.4557 - val_acc: 0.8895\n",
      "Epoch 30/130\n",
      "8177/8177 [==============================] - 0s 47us/step - loss: 1.0868 - acc: 0.7823 - val_loss: 0.4466 - val_acc: 0.8919\n",
      "Epoch 31/130\n",
      "8177/8177 [==============================] - 0s 47us/step - loss: 1.0761 - acc: 0.7848 - val_loss: 0.4382 - val_acc: 0.8905\n",
      "Epoch 32/130\n",
      "8177/8177 [==============================] - 0s 47us/step - loss: 1.0662 - acc: 0.7846 - val_loss: 0.4305 - val_acc: 0.8919\n",
      "Epoch 33/130\n",
      "8177/8177 [==============================] - 0s 46us/step - loss: 1.0569 - acc: 0.7871 - val_loss: 0.4228 - val_acc: 0.8929\n",
      "Epoch 34/130\n",
      "8177/8177 [==============================] - 0s 45us/step - loss: 1.0479 - acc: 0.7889 - val_loss: 0.4164 - val_acc: 0.8910\n",
      "Epoch 35/130\n",
      "8177/8177 [==============================] - 0s 44us/step - loss: 1.0396 - acc: 0.7895 - val_loss: 0.4106 - val_acc: 0.8914\n",
      "Epoch 36/130\n",
      "8177/8177 [==============================] - 0s 46us/step - loss: 1.0318 - acc: 0.7906 - val_loss: 0.4054 - val_acc: 0.8929\n",
      "Epoch 37/130\n",
      "8177/8177 [==============================] - 0s 46us/step - loss: 1.0241 - acc: 0.7923 - val_loss: 0.3997 - val_acc: 0.8910\n",
      "Epoch 38/130\n",
      "8177/8177 [==============================] - 0s 47us/step - loss: 1.0169 - acc: 0.7934 - val_loss: 0.3949 - val_acc: 0.8919\n",
      "Epoch 39/130\n",
      "8177/8177 [==============================] - 0s 47us/step - loss: 1.0100 - acc: 0.7941 - val_loss: 0.3903 - val_acc: 0.8929\n",
      "Epoch 40/130\n",
      "8177/8177 [==============================] - 0s 45us/step - loss: 1.0031 - acc: 0.7955 - val_loss: 0.3864 - val_acc: 0.8905\n",
      "Epoch 41/130\n",
      "8177/8177 [==============================] - 0s 47us/step - loss: 0.9970 - acc: 0.7964 - val_loss: 0.3826 - val_acc: 0.8910\n",
      "Epoch 42/130\n",
      "8177/8177 [==============================] - 0s 46us/step - loss: 0.9909 - acc: 0.7961 - val_loss: 0.3789 - val_acc: 0.8934\n",
      "Epoch 43/130\n",
      "8177/8177 [==============================] - 0s 45us/step - loss: 0.9851 - acc: 0.7983 - val_loss: 0.3756 - val_acc: 0.8905\n",
      "Epoch 44/130\n",
      "8177/8177 [==============================] - 0s 47us/step - loss: 0.9793 - acc: 0.7987 - val_loss: 0.3722 - val_acc: 0.8924\n",
      "Epoch 45/130\n",
      "8177/8177 [==============================] - 0s 47us/step - loss: 0.9737 - acc: 0.7992 - val_loss: 0.3688 - val_acc: 0.8934\n",
      "Epoch 46/130\n",
      "8177/8177 [==============================] - 0s 47us/step - loss: 0.9683 - acc: 0.8009 - val_loss: 0.3662 - val_acc: 0.8919\n",
      "Epoch 47/130\n",
      "8177/8177 [==============================] - 0s 46us/step - loss: 0.9633 - acc: 0.8015 - val_loss: 0.3638 - val_acc: 0.8944\n",
      "Epoch 48/130\n",
      "8177/8177 [==============================] - 0s 46us/step - loss: 0.9581 - acc: 0.8035 - val_loss: 0.3614 - val_acc: 0.8934\n",
      "Epoch 49/130\n",
      "8177/8177 [==============================] - 0s 46us/step - loss: 0.9530 - acc: 0.8051 - val_loss: 0.3589 - val_acc: 0.8939\n",
      "Epoch 50/130\n",
      "8177/8177 [==============================] - 0s 46us/step - loss: 0.9486 - acc: 0.8046 - val_loss: 0.3570 - val_acc: 0.8939\n",
      "Epoch 51/130\n",
      "8177/8177 [==============================] - 0s 47us/step - loss: 0.9441 - acc: 0.8043 - val_loss: 0.3546 - val_acc: 0.8963\n",
      "Epoch 52/130\n",
      "8177/8177 [==============================] - 0s 46us/step - loss: 0.9397 - acc: 0.8071 - val_loss: 0.3524 - val_acc: 0.8963\n",
      "Epoch 53/130\n",
      "8177/8177 [==============================] - 0s 47us/step - loss: 0.9352 - acc: 0.8067 - val_loss: 0.3504 - val_acc: 0.8934\n",
      "Epoch 54/130\n",
      "8177/8177 [==============================] - 0s 46us/step - loss: 0.9309 - acc: 0.8086 - val_loss: 0.3487 - val_acc: 0.8929\n",
      "Epoch 55/130\n",
      "8177/8177 [==============================] - 0s 45us/step - loss: 0.9267 - acc: 0.8103 - val_loss: 0.3473 - val_acc: 0.8954\n"
     ]
    },
    {
     "name": "stdout",
     "output_type": "stream",
     "text": [
      "Epoch 56/130\n",
      "8177/8177 [==============================] - 0s 44us/step - loss: 0.9227 - acc: 0.8102 - val_loss: 0.3458 - val_acc: 0.8958\n",
      "Epoch 57/130\n",
      "8177/8177 [==============================] - 0s 44us/step - loss: 0.9184 - acc: 0.8106 - val_loss: 0.3440 - val_acc: 0.8939\n",
      "Epoch 58/130\n",
      "8177/8177 [==============================] - 0s 47us/step - loss: 0.9148 - acc: 0.8112 - val_loss: 0.3426 - val_acc: 0.8963\n",
      "Epoch 59/130\n",
      "8177/8177 [==============================] - 0s 44us/step - loss: 0.9106 - acc: 0.8140 - val_loss: 0.3411 - val_acc: 0.8968\n",
      "Epoch 60/130\n",
      "8177/8177 [==============================] - 0s 47us/step - loss: 0.9072 - acc: 0.8133 - val_loss: 0.3401 - val_acc: 0.8949\n",
      "Epoch 61/130\n",
      "8177/8177 [==============================] - 0s 44us/step - loss: 0.9031 - acc: 0.8150 - val_loss: 0.3381 - val_acc: 0.8954\n",
      "Epoch 62/130\n",
      "8177/8177 [==============================] - 0s 44us/step - loss: 0.8995 - acc: 0.8161 - val_loss: 0.3368 - val_acc: 0.8968\n",
      "Epoch 63/130\n",
      "8177/8177 [==============================] - 0s 45us/step - loss: 0.8963 - acc: 0.8161 - val_loss: 0.3365 - val_acc: 0.8963\n",
      "Epoch 64/130\n",
      "8177/8177 [==============================] - 0s 44us/step - loss: 0.8927 - acc: 0.8163 - val_loss: 0.3347 - val_acc: 0.8958\n",
      "Epoch 65/130\n",
      "8177/8177 [==============================] - 0s 44us/step - loss: 0.8894 - acc: 0.8163 - val_loss: 0.3342 - val_acc: 0.8978\n",
      "Epoch 66/130\n",
      "8177/8177 [==============================] - 0s 45us/step - loss: 0.8861 - acc: 0.8179 - val_loss: 0.3328 - val_acc: 0.8954\n",
      "Epoch 67/130\n",
      "8177/8177 [==============================] - 0s 45us/step - loss: 0.8829 - acc: 0.8178 - val_loss: 0.3322 - val_acc: 0.8973\n",
      "Epoch 68/130\n",
      "8177/8177 [==============================] - 0s 44us/step - loss: 0.8795 - acc: 0.8186 - val_loss: 0.3311 - val_acc: 0.8978\n",
      "Epoch 69/130\n",
      "8177/8177 [==============================] - 0s 45us/step - loss: 0.8763 - acc: 0.8197 - val_loss: 0.3307 - val_acc: 0.8968\n",
      "Epoch 70/130\n",
      "8177/8177 [==============================] - 0s 45us/step - loss: 0.8731 - acc: 0.8203 - val_loss: 0.3295 - val_acc: 0.8983\n",
      "Epoch 71/130\n",
      "8177/8177 [==============================] - 0s 45us/step - loss: 0.8702 - acc: 0.8207 - val_loss: 0.3289 - val_acc: 0.8983\n",
      "Epoch 72/130\n",
      "8177/8177 [==============================] - ETA: 0s - loss: 0.8715 - acc: 0.820 - 0s 45us/step - loss: 0.8671 - acc: 0.8228 - val_loss: 0.3280 - val_acc: 0.8973\n",
      "Epoch 73/130\n",
      "8177/8177 [==============================] - 0s 44us/step - loss: 0.8638 - acc: 0.8228 - val_loss: 0.3270 - val_acc: 0.8988\n",
      "Epoch 74/130\n",
      "8177/8177 [==============================] - 0s 45us/step - loss: 0.8611 - acc: 0.8233 - val_loss: 0.3266 - val_acc: 0.8988\n",
      "Epoch 75/130\n",
      "8177/8177 [==============================] - 0s 44us/step - loss: 0.8582 - acc: 0.8241 - val_loss: 0.3261 - val_acc: 0.8983\n",
      "Epoch 76/130\n",
      "8177/8177 [==============================] - 0s 45us/step - loss: 0.8555 - acc: 0.8257 - val_loss: 0.3249 - val_acc: 0.9002\n",
      "Epoch 77/130\n",
      "8177/8177 [==============================] - 0s 47us/step - loss: 0.8526 - acc: 0.8250 - val_loss: 0.3247 - val_acc: 0.8988\n",
      "Epoch 78/130\n",
      "8177/8177 [==============================] - 0s 49us/step - loss: 0.8494 - acc: 0.8259 - val_loss: 0.3243 - val_acc: 0.8983\n",
      "Epoch 79/130\n",
      "8177/8177 [==============================] - 0s 46us/step - loss: 0.8469 - acc: 0.8260 - val_loss: 0.3235 - val_acc: 0.8983\n",
      "Epoch 80/130\n",
      "8177/8177 [==============================] - 0s 45us/step - loss: 0.8443 - acc: 0.8273 - val_loss: 0.3230 - val_acc: 0.8998\n",
      "Epoch 81/130\n",
      "8177/8177 [==============================] - 0s 44us/step - loss: 0.8414 - acc: 0.8289 - val_loss: 0.3231 - val_acc: 0.8983\n",
      "Epoch 82/130\n",
      "8177/8177 [==============================] - 0s 45us/step - loss: 0.8392 - acc: 0.8279 - val_loss: 0.3222 - val_acc: 0.9002\n",
      "Epoch 83/130\n",
      "8177/8177 [==============================] - 0s 46us/step - loss: 0.8361 - acc: 0.8307 - val_loss: 0.3216 - val_acc: 0.9007\n",
      "Epoch 84/130\n",
      "8177/8177 [==============================] - 0s 46us/step - loss: 0.8336 - acc: 0.8304 - val_loss: 0.3211 - val_acc: 0.9002\n",
      "Epoch 85/130\n",
      "8177/8177 [==============================] - 0s 46us/step - loss: 0.8309 - acc: 0.8312 - val_loss: 0.3205 - val_acc: 0.9002\n",
      "Epoch 86/130\n",
      "8177/8177 [==============================] - 0s 45us/step - loss: 0.8285 - acc: 0.8312 - val_loss: 0.3202 - val_acc: 0.9002\n",
      "Epoch 87/130\n",
      "8177/8177 [==============================] - 0s 45us/step - loss: 0.8258 - acc: 0.8315 - val_loss: 0.3200 - val_acc: 0.8998\n",
      "Epoch 88/130\n",
      "8177/8177 [==============================] - 0s 45us/step - loss: 0.8235 - acc: 0.8326 - val_loss: 0.3197 - val_acc: 0.9007\n",
      "Epoch 89/130\n",
      "8177/8177 [==============================] - 0s 45us/step - loss: 0.8210 - acc: 0.8325 - val_loss: 0.3190 - val_acc: 0.9002\n",
      "Epoch 90/130\n",
      "8177/8177 [==============================] - 0s 45us/step - loss: 0.8186 - acc: 0.8327 - val_loss: 0.3189 - val_acc: 0.8993\n",
      "Epoch 91/130\n",
      "8177/8177 [==============================] - 0s 45us/step - loss: 0.8164 - acc: 0.8342 - val_loss: 0.3185 - val_acc: 0.9002\n",
      "Epoch 92/130\n",
      "8177/8177 [==============================] - 0s 45us/step - loss: 0.8140 - acc: 0.8344 - val_loss: 0.3184 - val_acc: 0.8988\n",
      "Epoch 93/130\n",
      "8177/8177 [==============================] - 0s 45us/step - loss: 0.8117 - acc: 0.8350 - val_loss: 0.3183 - val_acc: 0.8998\n",
      "Epoch 94/130\n",
      "8177/8177 [==============================] - 0s 45us/step - loss: 0.8094 - acc: 0.8364 - val_loss: 0.3176 - val_acc: 0.8993\n",
      "Epoch 95/130\n",
      "8177/8177 [==============================] - 0s 46us/step - loss: 0.8071 - acc: 0.8359 - val_loss: 0.3178 - val_acc: 0.8998\n",
      "Epoch 96/130\n",
      "8177/8177 [==============================] - 0s 46us/step - loss: 0.8048 - acc: 0.8360 - val_loss: 0.3168 - val_acc: 0.8988\n",
      "Epoch 97/130\n",
      "8177/8177 [==============================] - 0s 46us/step - loss: 0.8026 - acc: 0.8369 - val_loss: 0.3172 - val_acc: 0.9002\n",
      "Epoch 98/130\n",
      "8177/8177 [==============================] - 0s 45us/step - loss: 0.8004 - acc: 0.8376 - val_loss: 0.3169 - val_acc: 0.8993\n",
      "Epoch 99/130\n",
      "8177/8177 [==============================] - 0s 45us/step - loss: 0.7981 - acc: 0.8377 - val_loss: 0.3163 - val_acc: 0.8993\n",
      "Epoch 100/130\n",
      "8177/8177 [==============================] - 0s 46us/step - loss: 0.7958 - acc: 0.8389 - val_loss: 0.3160 - val_acc: 0.8978\n",
      "Epoch 101/130\n",
      "8177/8177 [==============================] - 0s 46us/step - loss: 0.7937 - acc: 0.8382 - val_loss: 0.3165 - val_acc: 0.8993\n",
      "Epoch 102/130\n",
      "8177/8177 [==============================] - 0s 46us/step - loss: 0.7915 - acc: 0.8391 - val_loss: 0.3163 - val_acc: 0.8993\n",
      "Epoch 103/130\n",
      "8177/8177 [==============================] - 0s 45us/step - loss: 0.7896 - acc: 0.8393 - val_loss: 0.3158 - val_acc: 0.8993\n",
      "Epoch 104/130\n",
      "8177/8177 [==============================] - 0s 46us/step - loss: 0.7876 - acc: 0.8395 - val_loss: 0.3156 - val_acc: 0.8993\n",
      "Epoch 105/130\n",
      "8177/8177 [==============================] - 0s 46us/step - loss: 0.7855 - acc: 0.8415 - val_loss: 0.3158 - val_acc: 0.8988\n",
      "Epoch 106/130\n",
      "8177/8177 [==============================] - 0s 47us/step - loss: 0.7834 - acc: 0.8407 - val_loss: 0.3153 - val_acc: 0.8993\n",
      "Epoch 107/130\n",
      "8177/8177 [==============================] - 0s 46us/step - loss: 0.7811 - acc: 0.8409 - val_loss: 0.3155 - val_acc: 0.8983\n",
      "Epoch 108/130\n",
      "8177/8177 [==============================] - 0s 45us/step - loss: 0.7795 - acc: 0.8410 - val_loss: 0.3156 - val_acc: 0.8988\n",
      "Epoch 109/130\n",
      "8177/8177 [==============================] - 0s 45us/step - loss: 0.7774 - acc: 0.8419 - val_loss: 0.3150 - val_acc: 0.8993\n",
      "Epoch 110/130\n",
      "8177/8177 [==============================] - 0s 46us/step - loss: 0.7752 - acc: 0.8420 - val_loss: 0.3148 - val_acc: 0.8978\n",
      "Epoch 111/130\n",
      "8177/8177 [==============================] - 0s 46us/step - loss: 0.7733 - acc: 0.8430 - val_loss: 0.3151 - val_acc: 0.8988\n",
      "Epoch 112/130\n",
      "8177/8177 [==============================] - 0s 46us/step - loss: 0.7716 - acc: 0.8431 - val_loss: 0.3147 - val_acc: 0.8978\n",
      "Epoch 113/130\n",
      "8177/8177 [==============================] - 0s 46us/step - loss: 0.7695 - acc: 0.8440 - val_loss: 0.3148 - val_acc: 0.8998\n",
      "Epoch 114/130\n",
      "8177/8177 [==============================] - 0s 47us/step - loss: 0.7678 - acc: 0.8449 - val_loss: 0.3149 - val_acc: 0.8973\n",
      "Epoch 115/130\n"
     ]
    },
    {
     "name": "stdout",
     "output_type": "stream",
     "text": [
      "8177/8177 [==============================] - 0s 45us/step - loss: 0.7659 - acc: 0.8457 - val_loss: 0.3145 - val_acc: 0.8993\n",
      "Epoch 116/130\n",
      "8177/8177 [==============================] - 0s 44us/step - loss: 0.7640 - acc: 0.8449 - val_loss: 0.3147 - val_acc: 0.8978\n",
      "Epoch 117/130\n",
      "8177/8177 [==============================] - 0s 44us/step - loss: 0.7620 - acc: 0.8470 - val_loss: 0.3144 - val_acc: 0.8983\n",
      "Epoch 118/130\n",
      "8177/8177 [==============================] - 0s 46us/step - loss: 0.7602 - acc: 0.8474 - val_loss: 0.3141 - val_acc: 0.8998\n",
      "Epoch 119/130\n",
      "8177/8177 [==============================] - 0s 44us/step - loss: 0.7583 - acc: 0.8481 - val_loss: 0.3147 - val_acc: 0.8998\n",
      "Epoch 120/130\n",
      "8177/8177 [==============================] - 0s 44us/step - loss: 0.7565 - acc: 0.8477 - val_loss: 0.3145 - val_acc: 0.8983\n",
      "Epoch 121/130\n",
      "8177/8177 [==============================] - 0s 46us/step - loss: 0.7548 - acc: 0.8485 - val_loss: 0.3147 - val_acc: 0.8983\n",
      "Epoch 122/130\n",
      "8177/8177 [==============================] - 0s 44us/step - loss: 0.7530 - acc: 0.8485 - val_loss: 0.3143 - val_acc: 0.8988\n",
      "Epoch 123/130\n",
      "8177/8177 [==============================] - 0s 45us/step - loss: 0.7512 - acc: 0.8492 - val_loss: 0.3147 - val_acc: 0.8993\n",
      "Epoch 124/130\n",
      "8177/8177 [==============================] - 0s 44us/step - loss: 0.7494 - acc: 0.8487 - val_loss: 0.3145 - val_acc: 0.8993\n",
      "Epoch 125/130\n",
      "8177/8177 [==============================] - 0s 45us/step - loss: 0.7479 - acc: 0.8493 - val_loss: 0.3144 - val_acc: 0.8983\n",
      "Epoch 126/130\n",
      "8177/8177 [==============================] - 0s 44us/step - loss: 0.7460 - acc: 0.8504 - val_loss: 0.3142 - val_acc: 0.9002\n",
      "Epoch 127/130\n",
      "8177/8177 [==============================] - ETA: 0s - loss: 0.7472 - acc: 0.850 - 0s 44us/step - loss: 0.7443 - acc: 0.8513 - val_loss: 0.3143 - val_acc: 0.8993\n",
      "Epoch 128/130\n",
      "8177/8177 [==============================] - 0s 44us/step - loss: 0.7427 - acc: 0.8509 - val_loss: 0.3141 - val_acc: 0.8988\n",
      "Epoch 129/130\n",
      "8177/8177 [==============================] - 0s 45us/step - loss: 0.7409 - acc: 0.8512 - val_loss: 0.3142 - val_acc: 0.9007\n",
      "Epoch 130/130\n",
      "8177/8177 [==============================] - 0s 44us/step - loss: 0.7393 - acc: 0.8519 - val_loss: 0.3150 - val_acc: 0.9012\n"
     ]
    }
   ],
   "source": [
    "num_classes = len(top_breeds)\n",
    "\n",
    "models = {\n",
    "    \"InceptionV3\": {\n",
    "        \"model\": InceptionV3,\n",
    "        \"preprocessor\": inception_v3_preprocessor,\n",
    "        \"input_shape\": (299,299,3),\n",
    "        \"seed\": 1234,\n",
    "        \"pooling\": \"avg\"\n",
    "    #},\n",
    "    #\"Xception\": {\n",
    "    #    \"model\": Xception,\n",
    "    #    \"preprocessor\": xception_preprocessor,\n",
    "    #    \"input_shape\": (299,299,3),\n",
    "    #    \"seed\": 5512,\n",
    "    #    \"pooling\": \"avg\"\n",
    "    }\n",
    "}\n",
    "\n",
    "for model_name, model in models.items():\n",
    "    print(\"Predicting : {}\".format(model_name))\n",
    "    filename = model_name + '_features.npy'\n",
    "    validfilename = model_name + '_validfeatures.npy'\n",
    "    if exists(filename):\n",
    "        features = np.load(filename)\n",
    "        validation_features = np.load(validfilename)\n",
    "    else:\n",
    "        #image propocessing:\n",
    "        train_datagen = ImageDataGenerator(\n",
    "                zoom_range = 0.3,\n",
    "                width_shift_range=0.1,\n",
    "                height_shift_range=0.1)\n",
    "        validation_datagen = ImageDataGenerator()\n",
    "        \n",
    "\n",
    "        # Use pretrained model to generate Bottleneck Features:\n",
    "        Inception_model = InceptionV3(weights='imagenet', include_top=False, input_shape = (299,299,3), pooling=\"avg\")\n",
    "        \n",
    "        train_datagen.preprocessing_function = inception_v3_preprocessor\n",
    "        train_generator = train_datagen.flow(x_train, y_train, shuffle=False, batch_size = 32, seed = 1234)\n",
    "        features = Inception_model.predict_generator(train_generator,verbose=1)\n",
    "        \n",
    "        validation_datagen.preprocessing_function = inception_v3_preprocessor\n",
    "        validation_generator = validation_datagen.flow(x_validation, y_validation, shuffle=False, batch_size = 32, seed = 1234)\n",
    "        validation_features = Inception_model.predict_generator(validation_generator,verbose=1)\n",
    "        \n",
    "        np.save(filename, features)\n",
    "        np.save(validfilename, validation_features)\n",
    "        \n",
    "      \n",
    "    print features.shape\n",
    "    # Bulid top layers:\n",
    "    inputs = Input(shape=(2048,))\n",
    "    #x = Dense(1024, activation='relu')(inputs)\n",
    "    #x = BatchNormalization()(x)\n",
    "    #x = Dropout(0.5)(x)\n",
    "    predictions = Dense(120, activation='softmax')(inputs)\n",
    "    \n",
    "    model_top = Model(inputs = inputs, outputs = predictions)\n",
    "    model_top.summary()\n",
    "    \n",
    "    model_top.compile(optimizer = Adam(0.0001), \n",
    "                      loss = categorical_crossentropy, \n",
    "                      metrics = ['accuracy'])\n",
    "    \n",
    "    # Train the top model:\n",
    "    model_top.fit(features, y_train,\n",
    "                batch_size=256, epochs=130, verbose=1, \n",
    "                validation_data=(validation_features, y_validation))\n",
    "    \n"
   ]
  },
  {
   "cell_type": "markdown",
   "metadata": {},
   "source": [
    "# Load testing data and predict"
   ]
  },
  {
   "cell_type": "code",
   "execution_count": 15,
   "metadata": {},
   "outputs": [
    {
     "name": "stderr",
     "output_type": "stream",
     "text": [
      "100%|██████████| 10357/10357 [00:41<00:00, 251.84it/s]\n"
     ]
    },
    {
     "name": "stdout",
     "output_type": "stream",
     "text": [
      "(10357, 299, 299, 3)\n"
     ]
    }
   ],
   "source": [
    "#loading test images\n",
    "from tqdm import tqdm\n",
    "import cv2\n",
    "import os\n",
    "from keras.preprocessing import image\n",
    "\n",
    "TEST_FOLDER = '/Users/junyan/Downloads/Homework/DeepLearning/Project/data/sample_submission.csv'\n",
    "test_data = pd.read_csv(TEST_FOLDER)\n",
    "\n",
    "x_test = []\n",
    "for i in tqdm(test_data['id'].values):\n",
    "    img = cv2.imread('/Users/junyan/Downloads/Homework/DeepLearning/Project/data/test/{}.jpg'.format(i))\n",
    "    x_test.append(cv2.resize(img, (299, 299)))\n",
    "    \n",
    "x_test = np.array(x_test, np.float32)\n",
    "print x_test.shape"
   ]
  },
  {
   "cell_type": "code",
   "execution_count": 52,
   "metadata": {},
   "outputs": [],
   "source": [
    "testfilename = 'InceptionV3_testfeatures.npy'\n",
    "if exists(testfilename):\n",
    "        test_features = np.load(testfilename)\n",
    "else:\n",
    "    test_datagen = ImageDataGenerator()\n",
    "    test_datagen.preprocessing_function = inception_v3_preprocessor\n",
    "    test_generator = test_datagen.flow(x_test, shuffle=False, batch_size=32, seed = 1234)\n",
    "    test_features = Inception_model.predict_generator(test_generator, verbose=1)\n",
    "    np.save('InceptionV3_testfeatures.npy', test_features)"
   ]
  },
  {
   "cell_type": "code",
   "execution_count": 53,
   "metadata": {},
   "outputs": [
    {
     "name": "stdout",
     "output_type": "stream",
     "text": [
      "(10357, 120)\n"
     ]
    }
   ],
   "source": [
    "predictions = model_top.predict(test_features)\n",
    "print predictions.shape"
   ]
  },
  {
   "cell_type": "code",
   "execution_count": 54,
   "metadata": {
    "collapsed": true
   },
   "outputs": [],
   "source": [
    "#generating Kaggle upload file\n",
    "df_train = pd.read_csv('/Users/junyan/Downloads/Homework/DeepLearning/Project/data/labels.csv')\n",
    "targets_series = df_train['breed']\n",
    "one_hot = pd.get_dummies(targets_series, sparse = True)\n",
    "one_hot_labels = np.asarray(one_hot)"
   ]
  },
  {
   "cell_type": "code",
   "execution_count": 55,
   "metadata": {},
   "outputs": [
    {
     "name": "stdout",
     "output_type": "stream",
     "text": [
      "(10357, 121)\n"
     ]
    }
   ],
   "source": [
    "#generating Kaggle upload file\n",
    "test_DF = pd.read_csv('/Users/junyan/Downloads/Homework/DeepLearning/Project/data/sample_submission.csv')\n",
    "sub = pd.DataFrame(predictions)\n",
    "col_names = one_hot.columns.values\n",
    "sub.columns = col_names\n",
    "sub.insert(0, 'id', test_DF['id'])\n",
    "sub.head(5)\n",
    "print(sub.shape)\n",
    "sub.to_csv('Inception_sub2.csv', sep=',',index=False)"
   ]
  },
  {
   "cell_type": "code",
   "execution_count": null,
   "metadata": {
    "collapsed": true
   },
   "outputs": [],
   "source": []
  }
 ],
 "metadata": {
  "kernelspec": {
   "display_name": "Python 2",
   "language": "python",
   "name": "python2"
  },
  "language_info": {
   "codemirror_mode": {
    "name": "ipython",
    "version": 2
   },
   "file_extension": ".py",
   "mimetype": "text/x-python",
   "name": "python",
   "nbconvert_exporter": "python",
   "pygments_lexer": "ipython2",
   "version": "2.7.14"
  }
 },
 "nbformat": 4,
 "nbformat_minor": 2
}
