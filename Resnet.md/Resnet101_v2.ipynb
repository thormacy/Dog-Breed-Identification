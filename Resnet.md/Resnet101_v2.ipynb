{
 "cells": [
  {
   "cell_type": "code",
   "execution_count": 2,
   "metadata": {},
   "outputs": [],
   "source": [
    "import pandas as pd\n",
    "import numpy as np\n",
    "import os\n",
    "import mxnet as mx\n",
    "import shutil"
   ]
  },
  {
   "cell_type": "code",
   "execution_count": 3,
   "metadata": {},
   "outputs": [],
   "source": [
    "data_dir = \"/Users/shengwan/Desktop/data\"\n",
    "train_dir = \"train\"\n",
    "test_dir = \"test\"\n",
    "train_gy_dir = \"train_gy\"\n",
    "test_gy_dir = \"test_gy\""
   ]
  },
  {
   "cell_type": "markdown",
   "metadata": {},
   "source": [
    "## Preprocess"
   ]
  },
  {
   "cell_type": "code",
   "execution_count": 5,
   "metadata": {},
   "outputs": [],
   "source": [
    "# remove original directory\n",
    "train_gy_path = os.path.join(data_dir, train_gy_dir)\n",
    "if os.path.exists(train_gy_path):\n",
    "    shutil.rmtree(train_gy_path)\n",
    "    \n",
    "# make new directory\n",
    "if not os.path.exists(train_gy_path):\n",
    "    os.makedirs(train_gy_path)\n",
    "    \n",
    "# get training data id and labels\n",
    "id_labels = pd.read_csv(os.path.join(data_dir, \"labels.csv\"))\n",
    "\n",
    "# construct sym link between train_dir and train_gy_dir\n",
    "for _, (curr_id, curr_breed) in id_labels.iterrows():\n",
    "    dst_dir = os.path.join(train_gy_path, curr_breed)\n",
    "    if not os.path.exists(dst_dir):\n",
    "        os.makedirs(dst_dir)\n",
    "    src_loc = os.path.join(data_dir, train_dir, curr_id+\".jpg\")\n",
    "    dst_loc = os.path.join(dst_dir, curr_id+\".jpg\")\n",
    "    os.symlink(src_loc, dst_loc)"
   ]
  },
  {
   "cell_type": "code",
   "execution_count": 6,
   "metadata": {},
   "outputs": [],
   "source": [
    "# remove original directory\n",
    "test_gy_path = os.path.join(data_dir, test_gy_dir)\n",
    "if os.path.exists(test_gy_path):\n",
    "    shutil.rmtree(test_gy_path)\n",
    "    \n",
    "# make new directory\n",
    "if not os.path.exists(test_gy_path):\n",
    "    os.makedirs(test_gy_path)\n",
    "\n",
    "# construct sym link between test_dir and test_gy_dir\n",
    "for roor_dir, sub_dir, sub_files in os.walk(os.path.join(data_dir, test_dir)):\n",
    "    for sub_file in sub_files:\n",
    "        dst_dir = os.path.join(test_gy_path, \"0\")\n",
    "        if not os.path.exists(dst_dir):\n",
    "            os.makedirs(dst_dir)\n",
    "        src_loc = os.path.join(data_dir, test_dir, sub_file)\n",
    "        dst_loc = os.path.join(dst_dir, sub_file)\n",
    "        os.symlink(src_loc, dst_loc)"
   ]
  },
  {
   "cell_type": "markdown",
   "metadata": {},
   "source": [
    "## Extract Features"
   ]
  },
  {
   "cell_type": "code",
   "execution_count": 7,
   "metadata": {},
   "outputs": [],
   "source": [
    "import numpy as np\n",
    "import mxnet as mx\n",
    "from mxnet import nd\n",
    "from tqdm import tqdm"
   ]
  },
  {
   "cell_type": "code",
   "execution_count": 8,
   "metadata": {},
   "outputs": [],
   "source": [
    "#Resize images for model\n",
    "preprocess_list = [\n",
    "    lambda img: img.astype(\"float32\")/255,\n",
    "    mx.image.ForceResizeAug((224, 224)),\n",
    "    mx.image.ColorNormalizeAug(mean = [0.485, 0.456, 0.406], std = [0.229, 0.224, 0.225]),\n",
    "    lambda img: nd.transpose(img,(2,0,1))\n",
    "]\n",
    "\n",
    "def image_preprocess(img):\n",
    "    for f in preprocess_list:\n",
    "        img = f(img)\n",
    "    return img"
   ]
  },
  {
   "cell_type": "code",
   "execution_count": 13,
   "metadata": {},
   "outputs": [],
   "source": [
    "#Load Data\n",
    "def transform(img, label):\n",
    "    return image_preprocess(img), label\n",
    "\n",
    "def load_data(data_dir, load_batch_size = 32, f_trans=transform):\n",
    "    imgs = mx.gluon.data.vision.ImageFolderDataset(data_dir, transform=transform)\n",
    "    data = mx.gluon.data.DataLoader(imgs, load_batch_size, last_batch=\"keep\")\n",
    "    return data\n",
    "\n",
    "#Extract features\n",
    "def extract_features(net, data, ctx):\n",
    "    rst_X, rst_y = [], []\n",
    "    for X, y in tqdm(data):\n",
    "        Xi = net.features(X.as_in_context(ctx))\n",
    "        rst_X.append(Xi.asnumpy())\n",
    "        rst_y.append(y.asnumpy())\n",
    "    return np.concatenate(rst_X, axis=0), np.concatenate(rst_y, axis=0) "
   ]
  },
  {
   "cell_type": "code",
   "execution_count": 53,
   "metadata": {},
   "outputs": [],
   "source": [
    "train_data = load_data(\"/Users/shengwan/Desktop/data/train_gy\")\n",
    "test_data = load_data(\"/Users/shengwan/Desktop/data/test_gy\")"
   ]
  },
  {
   "cell_type": "code",
   "execution_count": 54,
   "metadata": {},
   "outputs": [
    {
     "name": "stdout",
     "output_type": "stream",
     "text": [
      "Model file is not found. Downloading.\n",
      "Downloading /Users/shengwan/.mxnet/models/resnet101_v2-7eb2b3cd.zip from https://apache-mxnet.s3-accelerate.dualstack.amazonaws.com/gluon/models/resnet101_v2-7eb2b3cd.zip...\n"
     ]
    },
    {
     "name": "stderr",
     "output_type": "stream",
     "text": [
      "100%|██████████| 320/320 [26:55<00:00,  5.05s/it]\n",
      "100%|██████████| 324/324 [27:55<00:00,  5.17s/it]\n"
     ]
    }
   ],
   "source": [
    "# Extract features\n",
    "ctx = mx.cpu()\n",
    "resnet101_v2 = mx.gluon.model_zoo.vision.resnet101_v2(pretrained=True, ctx=ctx)\n",
    "X_train_resnet101_v2, y_train = extract_features(resnet101_v2, train_data, ctx)\n",
    "X_test_resnet101_v2, _ = extract_features(resnet101_v2, test_data, ctx)"
   ]
  },
  {
   "cell_type": "code",
   "execution_count": 55,
   "metadata": {},
   "outputs": [],
   "source": [
    "#Save features\n",
    "import h5py\n",
    "with h5py.File('/Users/shengwan/Desktop/data/resnet101_v2_pretrained_Xy.h5', 'w') as f:\n",
    "    f['X_train_resnet101_v2'] = X_train_resnet101_v2\n",
    "    f['X_test_resnet101_v2'] = X_test_resnet101_v2\n",
    "    f['y_train'] = y_train"
   ]
  },
  {
   "cell_type": "markdown",
   "metadata": {},
   "source": [
    "## Train"
   ]
  },
  {
   "cell_type": "code",
   "execution_count": 56,
   "metadata": {},
   "outputs": [],
   "source": [
    "import numpy as np\n",
    "import h5py\n",
    "import os\n",
    "import mxnet as mx\n",
    "from mxnet import nd\n",
    "from mxnet.gluon import nn\n",
    "from sklearn.model_selection import train_test_split\n",
    "import matplotlib.pyplot as plt\n",
    "import pandas as pd\n",
    "%matplotlib inline"
   ]
  },
  {
   "cell_type": "code",
   "execution_count": 57,
   "metadata": {},
   "outputs": [],
   "source": [
    "#Load Data\n",
    "with h5py.File('/Users/shengwan/Desktop/data/resnet101_v2_pretrained_Xy.h5', 'r') as f:\n",
    "    X_train_resnet101_v2 = np.array(f['X_train_resnet101_v2'])\n",
    "    X_test_resnet101_v2 = np.array(f['X_test_resnet101_v2'])\n",
    "    y_train = np.array(f['y_train'])"
   ]
  },
  {
   "cell_type": "code",
   "execution_count": 58,
   "metadata": {},
   "outputs": [],
   "source": [
    "# Minibatch\n",
    "X_train, X_val, y_train, y_val = train_test_split(X_train_resnet101_v2, y_train, test_size=0.2)\n",
    "\n",
    "# dataset\n",
    "dataset_train = mx.gluon.data.ArrayDataset(nd.array(X_train), nd.array(y_train))\n",
    "dataset_val = mx.gluon.data.ArrayDataset(nd.array(X_val), nd.array(y_val))\n",
    "\n",
    "# data itet\n",
    "batch_size = 128\n",
    "data_iter_train = mx.gluon.data.DataLoader(dataset_train, batch_size, shuffle=True)\n",
    "data_iter_val = mx.gluon.data.DataLoader(dataset_val, batch_size)"
   ]
  },
  {
   "cell_type": "code",
   "execution_count": 59,
   "metadata": {},
   "outputs": [],
   "source": [
    "def accuracy(output, labels):\n",
    "    return nd.mean(nd.argmax(output, axis=1) == labels).asscalar()\n",
    "\n",
    "def evaluate(net, data_iter):\n",
    "    softmax_cross_entropy = mx.gluon.loss.SoftmaxCrossEntropyLoss()\n",
    "    loss, acc, n = 0., 0., 0.\n",
    "    steps = len(data_iter)\n",
    "    for data, label in data_iter:\n",
    "        data, label = data.as_in_context(ctx), label.as_in_context(ctx)\n",
    "        output = net(data)\n",
    "        acc += accuracy(output, label)\n",
    "        loss += nd.mean(softmax_cross_entropy(output, label)).asscalar()\n",
    "    return loss/steps, acc/steps"
   ]
  },
  {
   "cell_type": "code",
   "execution_count": 60,
   "metadata": {},
   "outputs": [],
   "source": [
    "#model\n",
    "ctx = mx.cpu()\n",
    "def get_net(ctx):\n",
    "\n",
    "    net = nn.Sequential()\n",
    "    with net.name_scope():\n",
    "        net.add(nn.Dense(256, activation='relu'))\n",
    "        net.add(nn.Dropout(0.5))\n",
    "        net.add(nn.Dense(120))\n",
    "\n",
    "    net.initialize(ctx=ctx)\n",
    "    return net\n",
    "\n",
    "#train\n",
    "def train(net, data_iter_train, data_iter_val, ctx, \n",
    "          epochs=50, lr=0.01, mome=0.9, wd=1e-4, lr_decay=0.5, lr_period=20):\n",
    "\n",
    "    softmax_cross_entropy = mx.gluon.loss.SoftmaxCrossEntropyLoss()\n",
    "    trainer = mx.gluon.Trainer(net.collect_params(),  'sgd', {'learning_rate': lr, 'momentum': mome, \n",
    "                                      'wd': wd})\n",
    "    \n",
    "    train_loss_list = []\n",
    "    val_loss_list = []\n",
    "    \n",
    "    for epoch in range(epochs):\n",
    "        train_loss = 0.0\n",
    "        train_acc = 0.0\n",
    "        steps = len(data_iter_train)\n",
    "        if epoch > 0 and epoch % lr_period == 0:\n",
    "            trainer.set_learning_rate(trainer.learning_rate * lr_decay)\n",
    "        for X, y in data_iter_train:\n",
    "\n",
    "            X, y = X.as_in_context(ctx), y.as_in_context(ctx)\n",
    "\n",
    "            with mx.autograd.record():\n",
    "                out = net(X)\n",
    "                loss = softmax_cross_entropy(out, y)\n",
    "\n",
    "            loss.backward()\n",
    "            trainer.step(batch_size)\n",
    "\n",
    "            train_loss += nd.mean(loss).asscalar()\n",
    "\n",
    "\n",
    "            train_acc += accuracy(out, y)\n",
    "\n",
    "        val_loss, val_acc = evaluate(net, data_iter_val)\n",
    "        train_loss_list.append(train_loss/steps)\n",
    "        val_loss_list.append(val_loss)\n",
    "        print(\"Epoch %d. loss: %.4f, acc: %.2f%%, val_loss %.4f, val_acc %.2f%%\" % (\n",
    "            epoch+1, train_loss/steps, train_acc/steps*100, val_loss, val_acc*100))\n",
    "        \n",
    "    return train_loss_list, val_loss_list"
   ]
  },
  {
   "cell_type": "code",
   "execution_count": 61,
   "metadata": {},
   "outputs": [
    {
     "name": "stdout",
     "output_type": "stream",
     "text": [
      "Epoch 1. loss: 3.9675, acc: 18.50%, val_loss 2.3470, val_acc 65.19%\n",
      "Epoch 2. loss: 1.7085, acc: 61.18%, val_loss 0.8299, val_acc 84.31%\n",
      "Epoch 3. loss: 0.9696, acc: 74.92%, val_loss 0.5641, val_acc 85.97%\n",
      "Epoch 4. loss: 0.7579, acc: 78.77%, val_loss 0.4690, val_acc 87.44%\n",
      "Epoch 5. loss: 0.6426, acc: 81.80%, val_loss 0.4376, val_acc 86.90%\n",
      "Epoch 6. loss: 0.5852, acc: 83.06%, val_loss 0.4054, val_acc 88.08%\n",
      "Epoch 7. loss: 0.5290, acc: 84.15%, val_loss 0.3893, val_acc 87.44%\n",
      "Epoch 8. loss: 0.5052, acc: 84.62%, val_loss 0.3878, val_acc 88.07%\n",
      "Epoch 9. loss: 0.4659, acc: 86.17%, val_loss 0.3661, val_acc 88.27%\n",
      "Epoch 10. loss: 0.4468, acc: 86.40%, val_loss 0.3719, val_acc 88.36%\n",
      "Epoch 11. loss: 0.4345, acc: 86.39%, val_loss 0.3607, val_acc 88.71%\n",
      "Epoch 12. loss: 0.4161, acc: 86.99%, val_loss 0.3577, val_acc 88.81%\n",
      "Epoch 13. loss: 0.4016, acc: 87.53%, val_loss 0.3489, val_acc 88.76%\n",
      "Epoch 14. loss: 0.3887, acc: 87.79%, val_loss 0.3478, val_acc 88.17%\n",
      "Epoch 15. loss: 0.3775, acc: 88.36%, val_loss 0.3482, val_acc 88.46%\n",
      "Epoch 16. loss: 0.3651, acc: 88.67%, val_loss 0.3490, val_acc 88.27%\n",
      "Epoch 17. loss: 0.3497, acc: 89.00%, val_loss 0.3474, val_acc 88.42%\n",
      "Epoch 18. loss: 0.3422, acc: 89.01%, val_loss 0.3508, val_acc 88.32%\n",
      "Epoch 19. loss: 0.3308, acc: 89.62%, val_loss 0.3451, val_acc 88.42%\n",
      "Epoch 20. loss: 0.3247, acc: 89.97%, val_loss 0.3407, val_acc 88.46%\n",
      "Epoch 21. loss: 0.3070, acc: 90.37%, val_loss 0.3343, val_acc 88.61%\n",
      "Epoch 22. loss: 0.3010, acc: 90.97%, val_loss 0.3350, val_acc 88.22%\n",
      "Epoch 23. loss: 0.2902, acc: 90.52%, val_loss 0.3308, val_acc 89.00%\n",
      "Epoch 24. loss: 0.2830, acc: 91.19%, val_loss 0.3331, val_acc 88.95%\n",
      "Epoch 25. loss: 0.2883, acc: 90.77%, val_loss 0.3305, val_acc 88.76%\n",
      "Epoch 26. loss: 0.2845, acc: 91.08%, val_loss 0.3304, val_acc 88.61%\n",
      "Epoch 27. loss: 0.2809, acc: 91.14%, val_loss 0.3342, val_acc 88.86%\n",
      "Epoch 28. loss: 0.2685, acc: 91.71%, val_loss 0.3339, val_acc 88.76%\n",
      "Epoch 29. loss: 0.2742, acc: 91.21%, val_loss 0.3353, val_acc 88.86%\n",
      "Epoch 30. loss: 0.2613, acc: 91.75%, val_loss 0.3306, val_acc 89.05%\n",
      "Epoch 31. loss: 0.2719, acc: 91.18%, val_loss 0.3337, val_acc 89.00%\n",
      "Epoch 32. loss: 0.2590, acc: 91.73%, val_loss 0.3355, val_acc 88.56%\n",
      "Epoch 33. loss: 0.2567, acc: 91.86%, val_loss 0.3317, val_acc 89.05%\n",
      "Epoch 34. loss: 0.2509, acc: 92.44%, val_loss 0.3266, val_acc 88.71%\n",
      "Epoch 35. loss: 0.2491, acc: 92.16%, val_loss 0.3336, val_acc 88.86%\n",
      "Epoch 36. loss: 0.2591, acc: 91.97%, val_loss 0.3331, val_acc 88.81%\n",
      "Epoch 37. loss: 0.2422, acc: 92.29%, val_loss 0.3318, val_acc 88.41%\n",
      "Epoch 38. loss: 0.2484, acc: 92.28%, val_loss 0.3280, val_acc 89.05%\n",
      "Epoch 39. loss: 0.2436, acc: 92.24%, val_loss 0.3335, val_acc 88.81%\n",
      "Epoch 40. loss: 0.2391, acc: 92.65%, val_loss 0.3271, val_acc 88.90%\n",
      "Epoch 41. loss: 0.2316, acc: 92.81%, val_loss 0.3277, val_acc 88.91%\n",
      "Epoch 42. loss: 0.2296, acc: 92.64%, val_loss 0.3260, val_acc 89.25%\n",
      "Epoch 43. loss: 0.2332, acc: 92.95%, val_loss 0.3286, val_acc 88.91%\n",
      "Epoch 44. loss: 0.2283, acc: 92.57%, val_loss 0.3267, val_acc 88.90%\n",
      "Epoch 45. loss: 0.2300, acc: 92.70%, val_loss 0.3266, val_acc 89.00%\n",
      "Epoch 46. loss: 0.2248, acc: 92.99%, val_loss 0.3271, val_acc 89.05%\n",
      "Epoch 47. loss: 0.2286, acc: 92.86%, val_loss 0.3242, val_acc 89.20%\n",
      "Epoch 48. loss: 0.2317, acc: 92.68%, val_loss 0.3271, val_acc 89.00%\n",
      "Epoch 49. loss: 0.2178, acc: 93.30%, val_loss 0.3289, val_acc 89.05%\n",
      "Epoch 50. loss: 0.2198, acc: 93.15%, val_loss 0.3281, val_acc 89.15%\n",
      "Epoch 51. loss: 0.2196, acc: 93.48%, val_loss 0.3264, val_acc 89.20%\n",
      "Epoch 52. loss: 0.2158, acc: 93.26%, val_loss 0.3268, val_acc 88.81%\n",
      "Epoch 53. loss: 0.2142, acc: 93.29%, val_loss 0.3267, val_acc 89.25%\n",
      "Epoch 54. loss: 0.2246, acc: 92.96%, val_loss 0.3276, val_acc 89.10%\n",
      "Epoch 55. loss: 0.2114, acc: 93.53%, val_loss 0.3275, val_acc 89.10%\n",
      "Epoch 56. loss: 0.2098, acc: 93.41%, val_loss 0.3272, val_acc 89.25%\n",
      "Epoch 57. loss: 0.2110, acc: 93.64%, val_loss 0.3269, val_acc 89.00%\n",
      "Epoch 58. loss: 0.2204, acc: 92.99%, val_loss 0.3275, val_acc 88.95%\n",
      "Epoch 59. loss: 0.2070, acc: 93.75%, val_loss 0.3291, val_acc 88.86%\n",
      "Epoch 60. loss: 0.2090, acc: 93.35%, val_loss 0.3307, val_acc 89.10%\n",
      "Epoch 61. loss: 0.2040, acc: 93.57%, val_loss 0.3278, val_acc 89.10%\n",
      "Epoch 62. loss: 0.2055, acc: 93.53%, val_loss 0.3280, val_acc 88.95%\n",
      "Epoch 63. loss: 0.2029, acc: 94.03%, val_loss 0.3292, val_acc 89.20%\n",
      "Epoch 64. loss: 0.2036, acc: 93.86%, val_loss 0.3271, val_acc 89.20%\n",
      "Epoch 65. loss: 0.1995, acc: 94.12%, val_loss 0.3275, val_acc 89.44%\n",
      "Epoch 66. loss: 0.1981, acc: 93.93%, val_loss 0.3276, val_acc 89.05%\n",
      "Epoch 67. loss: 0.1953, acc: 94.21%, val_loss 0.3282, val_acc 89.10%\n",
      "Epoch 68. loss: 0.1958, acc: 94.28%, val_loss 0.3265, val_acc 89.10%\n",
      "Epoch 69. loss: 0.1986, acc: 94.03%, val_loss 0.3275, val_acc 89.05%\n",
      "Epoch 70. loss: 0.1993, acc: 93.86%, val_loss 0.3291, val_acc 89.05%\n",
      "Epoch 71. loss: 0.2005, acc: 93.86%, val_loss 0.3295, val_acc 89.05%\n",
      "Epoch 72. loss: 0.2006, acc: 93.82%, val_loss 0.3274, val_acc 89.15%\n",
      "Epoch 73. loss: 0.1942, acc: 94.25%, val_loss 0.3290, val_acc 89.10%\n",
      "Epoch 74. loss: 0.1952, acc: 93.94%, val_loss 0.3280, val_acc 89.10%\n",
      "Epoch 75. loss: 0.2010, acc: 93.94%, val_loss 0.3284, val_acc 88.95%\n",
      "Epoch 76. loss: 0.1936, acc: 94.16%, val_loss 0.3294, val_acc 88.95%\n",
      "Epoch 77. loss: 0.1908, acc: 94.40%, val_loss 0.3294, val_acc 89.00%\n",
      "Epoch 78. loss: 0.1934, acc: 93.96%, val_loss 0.3285, val_acc 89.15%\n",
      "Epoch 79. loss: 0.1956, acc: 94.04%, val_loss 0.3292, val_acc 89.20%\n",
      "Epoch 80. loss: 0.1961, acc: 94.19%, val_loss 0.3287, val_acc 89.20%\n",
      "Epoch 81. loss: 0.1913, acc: 94.26%, val_loss 0.3279, val_acc 89.20%\n",
      "Epoch 82. loss: 0.1929, acc: 94.18%, val_loss 0.3272, val_acc 89.20%\n",
      "Epoch 83. loss: 0.1915, acc: 94.01%, val_loss 0.3274, val_acc 89.20%\n",
      "Epoch 84. loss: 0.1885, acc: 94.27%, val_loss 0.3280, val_acc 89.05%\n",
      "Epoch 85. loss: 0.1948, acc: 93.95%, val_loss 0.3271, val_acc 89.10%\n",
      "Epoch 86. loss: 0.1917, acc: 94.22%, val_loss 0.3272, val_acc 89.20%\n",
      "Epoch 87. loss: 0.1942, acc: 94.27%, val_loss 0.3261, val_acc 89.29%\n",
      "Epoch 88. loss: 0.1901, acc: 94.31%, val_loss 0.3273, val_acc 89.15%\n",
      "Epoch 89. loss: 0.1944, acc: 94.19%, val_loss 0.3275, val_acc 89.29%\n",
      "Epoch 90. loss: 0.1888, acc: 94.14%, val_loss 0.3281, val_acc 89.15%\n",
      "Epoch 91. loss: 0.1883, acc: 94.25%, val_loss 0.3286, val_acc 89.20%\n",
      "Epoch 92. loss: 0.1947, acc: 94.08%, val_loss 0.3286, val_acc 89.15%\n",
      "Epoch 93. loss: 0.1914, acc: 94.13%, val_loss 0.3283, val_acc 89.10%\n",
      "Epoch 94. loss: 0.1884, acc: 93.95%, val_loss 0.3284, val_acc 89.15%\n",
      "Epoch 95. loss: 0.1911, acc: 94.05%, val_loss 0.3283, val_acc 89.10%\n",
      "Epoch 96. loss: 0.1932, acc: 94.20%, val_loss 0.3285, val_acc 89.10%\n",
      "Epoch 97. loss: 0.1901, acc: 94.22%, val_loss 0.3284, val_acc 89.05%\n",
      "Epoch 98. loss: 0.1938, acc: 94.11%, val_loss 0.3286, val_acc 88.95%\n",
      "Epoch 99. loss: 0.1968, acc: 93.64%, val_loss 0.3286, val_acc 88.90%\n",
      "Epoch 100. loss: 0.1917, acc: 94.07%, val_loss 0.3280, val_acc 88.95%\n",
      "Epoch 101. loss: 0.1874, acc: 94.28%, val_loss 0.3279, val_acc 88.81%\n",
      "Epoch 102. loss: 0.1880, acc: 94.22%, val_loss 0.3281, val_acc 88.90%\n",
      "Epoch 103. loss: 0.1878, acc: 94.40%, val_loss 0.3285, val_acc 88.90%\n",
      "Epoch 104. loss: 0.1860, acc: 94.31%, val_loss 0.3282, val_acc 88.90%\n",
      "Epoch 105. loss: 0.1887, acc: 94.03%, val_loss 0.3284, val_acc 88.90%\n",
      "Epoch 106. loss: 0.1861, acc: 94.38%, val_loss 0.3284, val_acc 89.10%\n",
      "Epoch 107. loss: 0.1835, acc: 94.29%, val_loss 0.3281, val_acc 89.05%\n",
      "Epoch 108. loss: 0.1870, acc: 94.48%, val_loss 0.3281, val_acc 89.25%\n",
      "Epoch 109. loss: 0.1857, acc: 94.35%, val_loss 0.3283, val_acc 89.20%\n",
      "Epoch 110. loss: 0.1854, acc: 94.44%, val_loss 0.3284, val_acc 89.20%\n",
      "Epoch 111. loss: 0.1873, acc: 94.17%, val_loss 0.3283, val_acc 89.10%\n",
      "Epoch 112. loss: 0.1864, acc: 94.36%, val_loss 0.3283, val_acc 89.15%\n",
      "Epoch 113. loss: 0.1862, acc: 94.26%, val_loss 0.3284, val_acc 89.15%\n",
      "Epoch 114. loss: 0.1828, acc: 94.63%, val_loss 0.3283, val_acc 89.10%\n",
      "Epoch 115. loss: 0.1910, acc: 94.14%, val_loss 0.3286, val_acc 89.05%\n",
      "Epoch 116. loss: 0.1860, acc: 94.24%, val_loss 0.3285, val_acc 89.10%\n",
      "Epoch 117. loss: 0.1906, acc: 94.41%, val_loss 0.3285, val_acc 89.00%\n",
      "Epoch 118. loss: 0.1796, acc: 94.55%, val_loss 0.3287, val_acc 88.95%\n",
      "Epoch 119. loss: 0.1803, acc: 94.68%, val_loss 0.3287, val_acc 89.05%\n"
     ]
    },
    {
     "name": "stdout",
     "output_type": "stream",
     "text": [
      "Epoch 120. loss: 0.1878, acc: 94.03%, val_loss 0.3286, val_acc 89.10%\n",
      "Epoch 121. loss: 0.1905, acc: 94.04%, val_loss 0.3285, val_acc 89.00%\n",
      "Epoch 122. loss: 0.1857, acc: 94.20%, val_loss 0.3286, val_acc 89.10%\n",
      "Epoch 123. loss: 0.1810, acc: 94.60%, val_loss 0.3288, val_acc 89.05%\n",
      "Epoch 124. loss: 0.1811, acc: 94.64%, val_loss 0.3289, val_acc 89.05%\n",
      "Epoch 125. loss: 0.1844, acc: 94.58%, val_loss 0.3287, val_acc 89.00%\n",
      "Epoch 126. loss: 0.1853, acc: 94.50%, val_loss 0.3289, val_acc 89.05%\n",
      "Epoch 127. loss: 0.1874, acc: 94.40%, val_loss 0.3289, val_acc 89.05%\n",
      "Epoch 128. loss: 0.1861, acc: 94.35%, val_loss 0.3290, val_acc 89.00%\n",
      "Epoch 129. loss: 0.1853, acc: 94.37%, val_loss 0.3291, val_acc 89.05%\n",
      "Epoch 130. loss: 0.1830, acc: 94.51%, val_loss 0.3290, val_acc 89.05%\n",
      "Epoch 131. loss: 0.1846, acc: 94.36%, val_loss 0.3290, val_acc 89.00%\n",
      "Epoch 132. loss: 0.1821, acc: 94.32%, val_loss 0.3290, val_acc 89.00%\n",
      "Epoch 133. loss: 0.1843, acc: 94.44%, val_loss 0.3291, val_acc 89.00%\n",
      "Epoch 134. loss: 0.1799, acc: 94.50%, val_loss 0.3290, val_acc 89.00%\n",
      "Epoch 135. loss: 0.1863, acc: 94.35%, val_loss 0.3291, val_acc 89.05%\n",
      "Epoch 136. loss: 0.1837, acc: 94.32%, val_loss 0.3291, val_acc 89.10%\n",
      "Epoch 137. loss: 0.1854, acc: 94.28%, val_loss 0.3293, val_acc 89.05%\n",
      "Epoch 138. loss: 0.1812, acc: 94.76%, val_loss 0.3293, val_acc 89.05%\n",
      "Epoch 139. loss: 0.1896, acc: 94.26%, val_loss 0.3294, val_acc 89.15%\n",
      "Epoch 140. loss: 0.1923, acc: 94.21%, val_loss 0.3293, val_acc 89.20%\n",
      "Epoch 141. loss: 0.1855, acc: 94.44%, val_loss 0.3293, val_acc 89.20%\n",
      "Epoch 142. loss: 0.1868, acc: 94.24%, val_loss 0.3292, val_acc 89.10%\n",
      "Epoch 143. loss: 0.1837, acc: 94.35%, val_loss 0.3292, val_acc 89.05%\n",
      "Epoch 144. loss: 0.1845, acc: 94.18%, val_loss 0.3292, val_acc 89.05%\n",
      "Epoch 145. loss: 0.1877, acc: 94.27%, val_loss 0.3293, val_acc 89.00%\n",
      "Epoch 146. loss: 0.1848, acc: 94.36%, val_loss 0.3293, val_acc 89.00%\n",
      "Epoch 147. loss: 0.1834, acc: 94.47%, val_loss 0.3294, val_acc 89.00%\n",
      "Epoch 148. loss: 0.1867, acc: 94.60%, val_loss 0.3294, val_acc 89.00%\n",
      "Epoch 149. loss: 0.1828, acc: 94.35%, val_loss 0.3294, val_acc 88.95%\n",
      "Epoch 150. loss: 0.1793, acc: 94.76%, val_loss 0.3292, val_acc 88.95%\n",
      "Epoch 151. loss: 0.1839, acc: 94.66%, val_loss 0.3291, val_acc 89.00%\n",
      "Epoch 152. loss: 0.1765, acc: 94.62%, val_loss 0.3291, val_acc 89.00%\n",
      "Epoch 153. loss: 0.1783, acc: 94.70%, val_loss 0.3291, val_acc 89.00%\n",
      "Epoch 154. loss: 0.1821, acc: 94.21%, val_loss 0.3291, val_acc 88.95%\n",
      "Epoch 155. loss: 0.1833, acc: 94.40%, val_loss 0.3291, val_acc 89.00%\n",
      "Epoch 156. loss: 0.1832, acc: 94.35%, val_loss 0.3290, val_acc 89.00%\n",
      "Epoch 157. loss: 0.1828, acc: 94.28%, val_loss 0.3289, val_acc 88.95%\n",
      "Epoch 158. loss: 0.1810, acc: 94.56%, val_loss 0.3289, val_acc 89.00%\n",
      "Epoch 159. loss: 0.1877, acc: 94.08%, val_loss 0.3289, val_acc 89.00%\n",
      "Epoch 160. loss: 0.1821, acc: 94.62%, val_loss 0.3290, val_acc 89.00%\n",
      "Epoch 161. loss: 0.1837, acc: 94.59%, val_loss 0.3289, val_acc 89.05%\n",
      "Epoch 162. loss: 0.1841, acc: 94.24%, val_loss 0.3289, val_acc 89.05%\n",
      "Epoch 163. loss: 0.1829, acc: 94.34%, val_loss 0.3289, val_acc 89.05%\n",
      "Epoch 164. loss: 0.1849, acc: 94.34%, val_loss 0.3290, val_acc 89.05%\n",
      "Epoch 165. loss: 0.1853, acc: 94.24%, val_loss 0.3289, val_acc 89.00%\n",
      "Epoch 166. loss: 0.1850, acc: 94.34%, val_loss 0.3290, val_acc 89.00%\n",
      "Epoch 167. loss: 0.1784, acc: 94.87%, val_loss 0.3290, val_acc 88.95%\n",
      "Epoch 168. loss: 0.1817, acc: 94.28%, val_loss 0.3290, val_acc 89.00%\n",
      "Epoch 169. loss: 0.1824, acc: 94.68%, val_loss 0.3290, val_acc 89.00%\n",
      "Epoch 170. loss: 0.1833, acc: 94.44%, val_loss 0.3290, val_acc 88.95%\n",
      "Epoch 171. loss: 0.1805, acc: 94.65%, val_loss 0.3291, val_acc 89.00%\n",
      "Epoch 172. loss: 0.1887, acc: 94.20%, val_loss 0.3290, val_acc 89.00%\n",
      "Epoch 173. loss: 0.1863, acc: 94.41%, val_loss 0.3290, val_acc 89.00%\n",
      "Epoch 174. loss: 0.1795, acc: 94.49%, val_loss 0.3290, val_acc 89.00%\n",
      "Epoch 175. loss: 0.1833, acc: 94.53%, val_loss 0.3290, val_acc 88.95%\n",
      "Epoch 176. loss: 0.1786, acc: 94.72%, val_loss 0.3290, val_acc 88.95%\n",
      "Epoch 177. loss: 0.1805, acc: 94.42%, val_loss 0.3290, val_acc 88.95%\n",
      "Epoch 178. loss: 0.1822, acc: 94.40%, val_loss 0.3290, val_acc 88.95%\n",
      "Epoch 179. loss: 0.1860, acc: 94.29%, val_loss 0.3290, val_acc 88.95%\n",
      "Epoch 180. loss: 0.1827, acc: 94.59%, val_loss 0.3291, val_acc 89.00%\n",
      "Epoch 181. loss: 0.1801, acc: 94.67%, val_loss 0.3291, val_acc 89.00%\n",
      "Epoch 182. loss: 0.1814, acc: 94.78%, val_loss 0.3291, val_acc 89.00%\n",
      "Epoch 183. loss: 0.1876, acc: 94.18%, val_loss 0.3290, val_acc 89.00%\n",
      "Epoch 184. loss: 0.1862, acc: 94.41%, val_loss 0.3290, val_acc 89.00%\n",
      "Epoch 185. loss: 0.1876, acc: 94.32%, val_loss 0.3290, val_acc 89.00%\n",
      "Epoch 186. loss: 0.1840, acc: 94.46%, val_loss 0.3290, val_acc 89.00%\n",
      "Epoch 187. loss: 0.1834, acc: 94.66%, val_loss 0.3290, val_acc 89.00%\n",
      "Epoch 188. loss: 0.1785, acc: 94.49%, val_loss 0.3290, val_acc 89.00%\n",
      "Epoch 189. loss: 0.1862, acc: 94.44%, val_loss 0.3290, val_acc 89.00%\n",
      "Epoch 190. loss: 0.1794, acc: 94.81%, val_loss 0.3290, val_acc 89.00%\n",
      "Epoch 191. loss: 0.1857, acc: 94.44%, val_loss 0.3290, val_acc 88.95%\n",
      "Epoch 192. loss: 0.1861, acc: 94.20%, val_loss 0.3290, val_acc 89.00%\n",
      "Epoch 193. loss: 0.1827, acc: 94.67%, val_loss 0.3290, val_acc 89.00%\n",
      "Epoch 194. loss: 0.1768, acc: 94.74%, val_loss 0.3290, val_acc 89.00%\n",
      "Epoch 195. loss: 0.1823, acc: 94.43%, val_loss 0.3289, val_acc 89.00%\n",
      "Epoch 196. loss: 0.1783, acc: 94.71%, val_loss 0.3289, val_acc 89.00%\n",
      "Epoch 197. loss: 0.1774, acc: 94.86%, val_loss 0.3289, val_acc 89.00%\n",
      "Epoch 198. loss: 0.1841, acc: 94.36%, val_loss 0.3289, val_acc 89.00%\n",
      "Epoch 199. loss: 0.1883, acc: 94.30%, val_loss 0.3289, val_acc 89.00%\n",
      "Epoch 200. loss: 0.1746, acc: 94.77%, val_loss 0.3290, val_acc 89.00%\n"
     ]
    }
   ],
   "source": [
    "net = get_net(ctx)\n",
    "train_loss_list, val_loss_list = train(net, data_iter_train, data_iter_val, ctx, epochs=200, lr=0.01, \\\n",
    "      mome=0.9, wd=1e-4, lr_decay=0.5, lr_period=20)"
   ]
  },
  {
   "cell_type": "code",
   "execution_count": 62,
   "metadata": {},
   "outputs": [
    {
     "data": {
      "text/plain": [
       "(0, 1.5)"
      ]
     },
     "execution_count": 62,
     "metadata": {},
     "output_type": "execute_result"
    },
    {
     "data": {
      "image/png": "[encoded data removed]",
      "text/plain": [
       "<matplotlib.figure.Figure at 0x12442ef28>"
      ]
     },
     "metadata": {},
     "output_type": "display_data"
    }
   ],
   "source": [
    "plt.plot(train_loss_list, label=\"train_loss\")\n",
    "plt.plot(val_loss_list, label=\"val_loss\")\n",
    "plt.legend()\n",
    "plt.ylim([0,1.5])"
   ]
  },
  {
   "cell_type": "code",
   "execution_count": 63,
   "metadata": {},
   "outputs": [],
   "source": [
    "out_softmax = nd.softmax(net(nd.array(X_test_resnet101_v2).as_in_context(ctx)))\n",
    "\n",
    "synsets = mx.gluon.data.vision.ImageFolderDataset(\"/Users/shengwan/Desktop/data/train_gy\").synsets\n",
    "ids = sorted(os.listdir(\"/Users/shengwan/Desktop/data/test_gy/0/\"))\n",
    "ids = [i[:-4] for i in ids]\n",
    "\n",
    "df = pd.DataFrame(out_softmax.asnumpy())\n",
    "df.columns = synsets\n",
    "df[\"id\"] = ids\n",
    "df = df[[\"id\"]+synsets]\n",
    "df.to_csv('/Users/shengwan/Desktop/data/pred-resnet101_v2.csv', index=None)"
   ]
  },
  {
   "cell_type": "code",
   "execution_count": null,
   "metadata": {},
   "outputs": [],
   "source": []
  }
 ],
 "metadata": {
  "kernelspec": {
   "display_name": "Python 3",
   "language": "python",
   "name": "python3"
  },
  "language_info": {
   "codemirror_mode": {
    "name": "ipython",
    "version": 3
   },
   "file_extension": ".py",
   "mimetype": "text/x-python",
   "name": "python",
   "nbconvert_exporter": "python",
   "pygments_lexer": "ipython3",
   "version": "3.6.2"
  }
 },
 "nbformat": 4,
 "nbformat_minor": 2
}
