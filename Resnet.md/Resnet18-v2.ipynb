{
 "cells": [
  {
   "cell_type": "code",
   "execution_count": 2,
   "metadata": {},
   "outputs": [],
   "source": [
    "import pandas as pd\n",
    "import numpy as np\n",
    "import os\n",
    "import mxnet as mx\n",
    "import shutil"
   ]
  },
  {
   "cell_type": "code",
   "execution_count": 3,
   "metadata": {},
   "outputs": [],
   "source": [
    "data_dir = \"/Users/shengwan/Desktop/data\"\n",
    "train_dir = \"train\"\n",
    "test_dir = \"test\"\n",
    "train_gy_dir = \"train_gy\"\n",
    "test_gy_dir = \"test_gy\""
   ]
  },
  {
   "cell_type": "markdown",
   "metadata": {},
   "source": [
    "## Preprocess"
   ]
  },
  {
   "cell_type": "code",
   "execution_count": 5,
   "metadata": {},
   "outputs": [],
   "source": [
    "# remove original directory\n",
    "train_gy_path = os.path.join(data_dir, train_gy_dir)\n",
    "if os.path.exists(train_gy_path):\n",
    "    shutil.rmtree(train_gy_path)\n",
    "    \n",
    "# make new directory\n",
    "if not os.path.exists(train_gy_path):\n",
    "    os.makedirs(train_gy_path)\n",
    "    \n",
    "# get training data id and labels\n",
    "id_labels = pd.read_csv(os.path.join(data_dir, \"labels.csv\"))\n",
    "\n",
    "# construct sym link between train_dir and train_gy_dir\n",
    "for _, (curr_id, curr_breed) in id_labels.iterrows():\n",
    "    dst_dir = os.path.join(train_gy_path, curr_breed)\n",
    "    if not os.path.exists(dst_dir):\n",
    "        os.makedirs(dst_dir)\n",
    "    src_loc = os.path.join(data_dir, train_dir, curr_id+\".jpg\")\n",
    "    dst_loc = os.path.join(dst_dir, curr_id+\".jpg\")\n",
    "    os.symlink(src_loc, dst_loc)"
   ]
  },
  {
   "cell_type": "code",
   "execution_count": 6,
   "metadata": {},
   "outputs": [],
   "source": [
    "# remove original directory\n",
    "test_gy_path = os.path.join(data_dir, test_gy_dir)\n",
    "if os.path.exists(test_gy_path):\n",
    "    shutil.rmtree(test_gy_path)\n",
    "    \n",
    "# make new directory\n",
    "if not os.path.exists(test_gy_path):\n",
    "    os.makedirs(test_gy_path)\n",
    "\n",
    "# construct sym link between test_dir and test_gy_dir\n",
    "for roor_dir, sub_dir, sub_files in os.walk(os.path.join(data_dir, test_dir)):\n",
    "    for sub_file in sub_files:\n",
    "        dst_dir = os.path.join(test_gy_path, \"0\")\n",
    "        if not os.path.exists(dst_dir):\n",
    "            os.makedirs(dst_dir)\n",
    "        src_loc = os.path.join(data_dir, test_dir, sub_file)\n",
    "        dst_loc = os.path.join(dst_dir, sub_file)\n",
    "        os.symlink(src_loc, dst_loc)"
   ]
  },
  {
   "cell_type": "markdown",
   "metadata": {},
   "source": [
    "## Extract Features"
   ]
  },
  {
   "cell_type": "code",
   "execution_count": 7,
   "metadata": {},
   "outputs": [],
   "source": [
    "import numpy as np\n",
    "import mxnet as mx\n",
    "from mxnet import nd\n",
    "from tqdm import tqdm"
   ]
  },
  {
   "cell_type": "code",
   "execution_count": 8,
   "metadata": {},
   "outputs": [],
   "source": [
    "#Resize images for model\n",
    "preprocess_list = [\n",
    "    lambda img: img.astype(\"float32\")/255,\n",
    "    mx.image.ForceResizeAug((224, 224)),\n",
    "    mx.image.ColorNormalizeAug(mean = [0.485, 0.456, 0.406], std = [0.229, 0.224, 0.225]),\n",
    "    lambda img: nd.transpose(img,(2,0,1))\n",
    "]\n",
    "\n",
    "def image_preprocess(img):\n",
    "    for f in preprocess_list:\n",
    "        img = f(img)\n",
    "    return img"
   ]
  },
  {
   "cell_type": "code",
   "execution_count": 13,
   "metadata": {},
   "outputs": [],
   "source": [
    "#Load Data\n",
    "def transform(img, label):\n",
    "    return image_preprocess(img), label\n",
    "\n",
    "def load_data(data_dir, load_batch_size = 32, f_trans=transform):\n",
    "    imgs = mx.gluon.data.vision.ImageFolderDataset(data_dir, transform=transform)\n",
    "    data = mx.gluon.data.DataLoader(imgs, load_batch_size, last_batch=\"keep\")\n",
    "    return data\n",
    "\n",
    "#Extract features\n",
    "def extract_features(net, data, ctx):\n",
    "    rst_X, rst_y = [], []\n",
    "    for X, y in tqdm(data):\n",
    "        Xi = net.features(X.as_in_context(ctx))\n",
    "        rst_X.append(Xi.asnumpy())\n",
    "        rst_y.append(y.asnumpy())\n",
    "    return np.concatenate(rst_X, axis=0), np.concatenate(rst_y, axis=0) "
   ]
  },
  {
   "cell_type": "code",
   "execution_count": 27,
   "metadata": {},
   "outputs": [],
   "source": [
    "train_data = load_data(\"/Users/shengwan/Desktop/data/train_gy\")\n",
    "test_data = load_data(\"/Users/shengwan/Desktop/data/test_gy\")"
   ]
  },
  {
   "cell_type": "code",
   "execution_count": 28,
   "metadata": {},
   "outputs": [
    {
     "name": "stdout",
     "output_type": "stream",
     "text": [
      "Model file is not found. Downloading.\n",
      "Downloading /Users/shengwan/.mxnet/models/resnet18_v2-8aacf80f.zip from https://apache-mxnet.s3-accelerate.dualstack.amazonaws.com/gluon/models/resnet18_v2-8aacf80f.zip...\n"
     ]
    },
    {
     "name": "stderr",
     "output_type": "stream",
     "text": [
      "100%|██████████| 320/320 [08:03<00:00,  1.51s/it]\n",
      "100%|██████████| 324/324 [08:09<00:00,  1.51s/it]\n"
     ]
    }
   ],
   "source": [
    "# Extract features\n",
    "ctx = mx.cpu()\n",
    "resnet18_v2 = mx.gluon.model_zoo.vision.resnet18_v2(pretrained=True, ctx=ctx)\n",
    "X_train_resnet18_v2, y_train = extract_features(resnet18_v2, train_data, ctx)\n",
    "X_test_resnet18_v2, _ = extract_features(resnet18_v2, test_data, ctx)"
   ]
  },
  {
   "cell_type": "code",
   "execution_count": 29,
   "metadata": {},
   "outputs": [],
   "source": [
    "#Save features\n",
    "import h5py\n",
    "with h5py.File('/Users/shengwan/Desktop/data/resnet18_v2_pretrained_Xy.h5', 'w') as f:\n",
    "    f['X_train_resnet18_v2'] = X_train_resnet18_v2\n",
    "    f['X_test_resnet18_v2'] = X_test_resnet18_v2\n",
    "    f['y_train'] = y_train"
   ]
  },
  {
   "cell_type": "markdown",
   "metadata": {},
   "source": [
    "## Train"
   ]
  },
  {
   "cell_type": "code",
   "execution_count": 30,
   "metadata": {},
   "outputs": [],
   "source": [
    "import numpy as np\n",
    "import h5py\n",
    "import os\n",
    "import mxnet as mx\n",
    "from mxnet import nd\n",
    "from mxnet.gluon import nn\n",
    "from sklearn.model_selection import train_test_split\n",
    "import matplotlib.pyplot as plt\n",
    "import pandas as pd\n",
    "%matplotlib inline"
   ]
  },
  {
   "cell_type": "code",
   "execution_count": 31,
   "metadata": {},
   "outputs": [],
   "source": [
    "#Load Data\n",
    "with h5py.File('/Users/shengwan/Desktop/data/resnet18_v2_pretrained_Xy.h5', 'r') as f:\n",
    "    X_train_resnet18_v2 = np.array(f['X_train_resnet18_v2'])\n",
    "    X_test_resnet18_v2 = np.array(f['X_test_resnet18_v2'])\n",
    "    y_train = np.array(f['y_train'])"
   ]
  },
  {
   "cell_type": "code",
   "execution_count": 32,
   "metadata": {},
   "outputs": [],
   "source": [
    "# Minibatch\n",
    "X_train, X_val, y_train, y_val = train_test_split(X_train_resnet18_v2, y_train, test_size=0.2)\n",
    "\n",
    "# dataset\n",
    "dataset_train = mx.gluon.data.ArrayDataset(nd.array(X_train), nd.array(y_train))\n",
    "dataset_val = mx.gluon.data.ArrayDataset(nd.array(X_val), nd.array(y_val))\n",
    "\n",
    "# data itet\n",
    "batch_size = 128\n",
    "data_iter_train = mx.gluon.data.DataLoader(dataset_train, batch_size, shuffle=True)\n",
    "data_iter_val = mx.gluon.data.DataLoader(dataset_val, batch_size)"
   ]
  },
  {
   "cell_type": "code",
   "execution_count": 33,
   "metadata": {},
   "outputs": [],
   "source": [
    "def accuracy(output, labels):\n",
    "    return nd.mean(nd.argmax(output, axis=1) == labels).asscalar()\n",
    "\n",
    "def evaluate(net, data_iter):\n",
    "    softmax_cross_entropy = mx.gluon.loss.SoftmaxCrossEntropyLoss()\n",
    "    loss, acc, n = 0., 0., 0.\n",
    "    steps = len(data_iter)\n",
    "    for data, label in data_iter:\n",
    "        data, label = data.as_in_context(ctx), label.as_in_context(ctx)\n",
    "        output = net(data)\n",
    "        acc += accuracy(output, label)\n",
    "        loss += nd.mean(softmax_cross_entropy(output, label)).asscalar()\n",
    "    return loss/steps, acc/steps"
   ]
  },
  {
   "cell_type": "code",
   "execution_count": 34,
   "metadata": {},
   "outputs": [],
   "source": [
    "#model\n",
    "ctx = mx.cpu()\n",
    "def get_net(ctx):\n",
    "\n",
    "    net = nn.Sequential()\n",
    "    with net.name_scope():\n",
    "        net.add(nn.Dense(256, activation='relu'))\n",
    "        net.add(nn.Dropout(0.5))\n",
    "        net.add(nn.Dense(120))\n",
    "\n",
    "    net.initialize(ctx=ctx)\n",
    "    return net\n",
    "\n",
    "#train\n",
    "def train(net, data_iter_train, data_iter_val, ctx, \n",
    "          epochs=50, lr=0.01, mome=0.9, wd=1e-4, lr_decay=0.5, lr_period=20):\n",
    "\n",
    "    softmax_cross_entropy = mx.gluon.loss.SoftmaxCrossEntropyLoss()\n",
    "    trainer = mx.gluon.Trainer(net.collect_params(),  'sgd', {'learning_rate': lr, 'momentum': mome, \n",
    "                                      'wd': wd})\n",
    "    \n",
    "    train_loss_list = []\n",
    "    val_loss_list = []\n",
    "    \n",
    "    for epoch in range(epochs):\n",
    "        train_loss = 0.0\n",
    "        train_acc = 0.0\n",
    "        steps = len(data_iter_train)\n",
    "        if epoch > 0 and epoch % lr_period == 0:\n",
    "            trainer.set_learning_rate(trainer.learning_rate * lr_decay)\n",
    "        for X, y in data_iter_train:\n",
    "\n",
    "            X, y = X.as_in_context(ctx), y.as_in_context(ctx)\n",
    "\n",
    "            with mx.autograd.record():\n",
    "                out = net(X)\n",
    "                loss = softmax_cross_entropy(out, y)\n",
    "\n",
    "            loss.backward()\n",
    "            trainer.step(batch_size)\n",
    "\n",
    "            train_loss += nd.mean(loss).asscalar()\n",
    "\n",
    "\n",
    "            train_acc += accuracy(out, y)\n",
    "\n",
    "        val_loss, val_acc = evaluate(net, data_iter_val)\n",
    "        train_loss_list.append(train_loss/steps)\n",
    "        val_loss_list.append(val_loss)\n",
    "        print(\"Epoch %d. loss: %.4f, acc: %.2f%%, val_loss %.4f, val_acc %.2f%%\" % (\n",
    "            epoch+1, train_loss/steps, train_acc/steps*100, val_loss, val_acc*100))\n",
    "        \n",
    "    return train_loss_list, val_loss_list"
   ]
  },
  {
   "cell_type": "code",
   "execution_count": 35,
   "metadata": {},
   "outputs": [
    {
     "name": "stdout",
     "output_type": "stream",
     "text": [
      "Epoch 1. loss: 4.1054, acc: 14.03%, val_loss 2.5945, val_acc 57.75%\n",
      "Epoch 2. loss: 1.9601, acc: 51.33%, val_loss 1.0094, val_acc 79.03%\n",
      "Epoch 3. loss: 1.1923, acc: 67.71%, val_loss 0.7444, val_acc 81.28%\n",
      "Epoch 4. loss: 0.9533, acc: 73.08%, val_loss 0.6403, val_acc 82.89%\n",
      "Epoch 5. loss: 0.8177, acc: 75.77%, val_loss 0.5819, val_acc 83.97%\n",
      "Epoch 6. loss: 0.7431, acc: 77.54%, val_loss 0.5613, val_acc 83.43%\n",
      "Epoch 7. loss: 0.6960, acc: 78.42%, val_loss 0.5374, val_acc 84.07%\n",
      "Epoch 8. loss: 0.6470, acc: 80.31%, val_loss 0.5228, val_acc 84.02%\n",
      "Epoch 9. loss: 0.6200, acc: 80.70%, val_loss 0.5233, val_acc 83.68%\n",
      "Epoch 10. loss: 0.5945, acc: 81.78%, val_loss 0.5084, val_acc 84.85%\n",
      "Epoch 11. loss: 0.5661, acc: 82.06%, val_loss 0.5179, val_acc 84.56%\n",
      "Epoch 12. loss: 0.5503, acc: 82.93%, val_loss 0.4974, val_acc 84.31%\n",
      "Epoch 13. loss: 0.5224, acc: 83.84%, val_loss 0.4919, val_acc 84.95%\n",
      "Epoch 14. loss: 0.5068, acc: 84.39%, val_loss 0.4856, val_acc 85.58%\n",
      "Epoch 15. loss: 0.4805, acc: 84.89%, val_loss 0.4856, val_acc 85.14%\n",
      "Epoch 16. loss: 0.4730, acc: 84.92%, val_loss 0.4812, val_acc 85.29%\n",
      "Epoch 17. loss: 0.4545, acc: 85.75%, val_loss 0.4854, val_acc 85.04%\n",
      "Epoch 18. loss: 0.4425, acc: 85.97%, val_loss 0.4845, val_acc 84.99%\n",
      "Epoch 19. loss: 0.4438, acc: 86.21%, val_loss 0.4766, val_acc 85.24%\n",
      "Epoch 20. loss: 0.4163, acc: 86.85%, val_loss 0.4814, val_acc 85.34%\n",
      "Epoch 21. loss: 0.4039, acc: 87.18%, val_loss 0.4686, val_acc 86.17%\n",
      "Epoch 22. loss: 0.3817, acc: 87.81%, val_loss 0.4735, val_acc 85.68%\n",
      "Epoch 23. loss: 0.3764, acc: 87.95%, val_loss 0.4709, val_acc 85.43%\n",
      "Epoch 24. loss: 0.3742, acc: 88.43%, val_loss 0.4705, val_acc 85.87%\n",
      "Epoch 25. loss: 0.3757, acc: 87.92%, val_loss 0.4686, val_acc 85.92%\n",
      "Epoch 26. loss: 0.3615, acc: 88.56%, val_loss 0.4758, val_acc 85.34%\n",
      "Epoch 27. loss: 0.3566, acc: 88.81%, val_loss 0.4748, val_acc 85.34%\n",
      "Epoch 28. loss: 0.3603, acc: 88.50%, val_loss 0.4704, val_acc 85.97%\n",
      "Epoch 29. loss: 0.3465, acc: 89.56%, val_loss 0.4662, val_acc 85.97%\n",
      "Epoch 30. loss: 0.3424, acc: 89.16%, val_loss 0.4714, val_acc 85.97%\n",
      "Epoch 31. loss: 0.3483, acc: 89.12%, val_loss 0.4741, val_acc 85.63%\n",
      "Epoch 32. loss: 0.3445, acc: 88.73%, val_loss 0.4720, val_acc 85.19%\n",
      "Epoch 33. loss: 0.3382, acc: 89.47%, val_loss 0.4717, val_acc 85.63%\n",
      "Epoch 34. loss: 0.3289, acc: 89.74%, val_loss 0.4729, val_acc 85.68%\n",
      "Epoch 35. loss: 0.3211, acc: 90.07%, val_loss 0.4721, val_acc 85.68%\n",
      "Epoch 36. loss: 0.3194, acc: 89.83%, val_loss 0.4724, val_acc 85.29%\n",
      "Epoch 37. loss: 0.3188, acc: 89.90%, val_loss 0.4740, val_acc 85.77%\n",
      "Epoch 38. loss: 0.3126, acc: 90.28%, val_loss 0.4740, val_acc 85.63%\n",
      "Epoch 39. loss: 0.3118, acc: 90.77%, val_loss 0.4764, val_acc 86.02%\n",
      "Epoch 40. loss: 0.3096, acc: 90.16%, val_loss 0.4718, val_acc 85.19%\n",
      "Epoch 41. loss: 0.2998, acc: 90.79%, val_loss 0.4717, val_acc 85.53%\n",
      "Epoch 42. loss: 0.2940, acc: 90.84%, val_loss 0.4702, val_acc 85.43%\n",
      "Epoch 43. loss: 0.2883, acc: 90.94%, val_loss 0.4701, val_acc 85.77%\n",
      "Epoch 44. loss: 0.2949, acc: 90.81%, val_loss 0.4681, val_acc 85.73%\n",
      "Epoch 45. loss: 0.2932, acc: 90.76%, val_loss 0.4709, val_acc 85.53%\n",
      "Epoch 46. loss: 0.2906, acc: 90.62%, val_loss 0.4706, val_acc 85.53%\n",
      "Epoch 47. loss: 0.2819, acc: 91.40%, val_loss 0.4696, val_acc 85.87%\n",
      "Epoch 48. loss: 0.2802, acc: 91.62%, val_loss 0.4722, val_acc 85.68%\n",
      "Epoch 49. loss: 0.2827, acc: 91.25%, val_loss 0.4725, val_acc 85.63%\n",
      "Epoch 50. loss: 0.2796, acc: 91.13%, val_loss 0.4730, val_acc 85.77%\n",
      "Epoch 51. loss: 0.2730, acc: 91.75%, val_loss 0.4713, val_acc 85.48%\n",
      "Epoch 52. loss: 0.2833, acc: 91.16%, val_loss 0.4714, val_acc 85.44%\n",
      "Epoch 53. loss: 0.2781, acc: 91.37%, val_loss 0.4723, val_acc 85.63%\n",
      "Epoch 54. loss: 0.2750, acc: 91.50%, val_loss 0.4739, val_acc 85.82%\n",
      "Epoch 55. loss: 0.2736, acc: 91.49%, val_loss 0.4727, val_acc 85.48%\n",
      "Epoch 56. loss: 0.2687, acc: 91.83%, val_loss 0.4757, val_acc 85.38%\n",
      "Epoch 57. loss: 0.2689, acc: 91.62%, val_loss 0.4760, val_acc 85.48%\n",
      "Epoch 58. loss: 0.2720, acc: 91.46%, val_loss 0.4783, val_acc 85.58%\n",
      "Epoch 59. loss: 0.2662, acc: 91.82%, val_loss 0.4768, val_acc 85.68%\n",
      "Epoch 60. loss: 0.2644, acc: 91.93%, val_loss 0.4748, val_acc 85.77%\n",
      "Epoch 61. loss: 0.2605, acc: 91.75%, val_loss 0.4747, val_acc 85.73%\n",
      "Epoch 62. loss: 0.2564, acc: 92.00%, val_loss 0.4740, val_acc 85.58%\n",
      "Epoch 63. loss: 0.2502, acc: 92.55%, val_loss 0.4726, val_acc 85.68%\n",
      "Epoch 64. loss: 0.2525, acc: 92.10%, val_loss 0.4740, val_acc 85.63%\n",
      "Epoch 65. loss: 0.2530, acc: 92.57%, val_loss 0.4740, val_acc 85.48%\n",
      "Epoch 66. loss: 0.2579, acc: 91.86%, val_loss 0.4730, val_acc 85.63%\n",
      "Epoch 67. loss: 0.2572, acc: 92.22%, val_loss 0.4745, val_acc 85.63%\n",
      "Epoch 68. loss: 0.2494, acc: 92.54%, val_loss 0.4732, val_acc 85.68%\n",
      "Epoch 69. loss: 0.2505, acc: 92.66%, val_loss 0.4754, val_acc 85.58%\n",
      "Epoch 70. loss: 0.2518, acc: 92.39%, val_loss 0.4734, val_acc 85.33%\n",
      "Epoch 71. loss: 0.2408, acc: 92.59%, val_loss 0.4730, val_acc 85.53%\n",
      "Epoch 72. loss: 0.2554, acc: 92.05%, val_loss 0.4740, val_acc 85.73%\n",
      "Epoch 73. loss: 0.2486, acc: 92.56%, val_loss 0.4740, val_acc 85.73%\n",
      "Epoch 74. loss: 0.2498, acc: 92.48%, val_loss 0.4746, val_acc 85.73%\n",
      "Epoch 75. loss: 0.2424, acc: 92.89%, val_loss 0.4746, val_acc 85.87%\n",
      "Epoch 76. loss: 0.2510, acc: 92.35%, val_loss 0.4768, val_acc 85.87%\n",
      "Epoch 77. loss: 0.2421, acc: 92.61%, val_loss 0.4778, val_acc 85.87%\n",
      "Epoch 78. loss: 0.2448, acc: 92.71%, val_loss 0.4773, val_acc 85.63%\n",
      "Epoch 79. loss: 0.2443, acc: 92.62%, val_loss 0.4768, val_acc 85.63%\n",
      "Epoch 80. loss: 0.2545, acc: 92.20%, val_loss 0.4758, val_acc 85.87%\n",
      "Epoch 81. loss: 0.2424, acc: 92.89%, val_loss 0.4765, val_acc 85.77%\n",
      "Epoch 82. loss: 0.2455, acc: 92.54%, val_loss 0.4761, val_acc 85.68%\n",
      "Epoch 83. loss: 0.2344, acc: 93.07%, val_loss 0.4755, val_acc 85.77%\n",
      "Epoch 84. loss: 0.2436, acc: 92.56%, val_loss 0.4766, val_acc 85.73%\n",
      "Epoch 85. loss: 0.2324, acc: 93.28%, val_loss 0.4760, val_acc 85.48%\n",
      "Epoch 86. loss: 0.2476, acc: 92.43%, val_loss 0.4758, val_acc 85.58%\n",
      "Epoch 87. loss: 0.2388, acc: 92.81%, val_loss 0.4752, val_acc 85.53%\n",
      "Epoch 88. loss: 0.2454, acc: 92.87%, val_loss 0.4759, val_acc 85.58%\n",
      "Epoch 89. loss: 0.2444, acc: 92.46%, val_loss 0.4751, val_acc 85.53%\n",
      "Epoch 90. loss: 0.2385, acc: 92.73%, val_loss 0.4763, val_acc 85.58%\n",
      "Epoch 91. loss: 0.2405, acc: 92.75%, val_loss 0.4765, val_acc 85.63%\n",
      "Epoch 92. loss: 0.2437, acc: 92.54%, val_loss 0.4764, val_acc 85.63%\n",
      "Epoch 93. loss: 0.2393, acc: 92.68%, val_loss 0.4760, val_acc 85.73%\n",
      "Epoch 94. loss: 0.2408, acc: 92.95%, val_loss 0.4761, val_acc 85.58%\n",
      "Epoch 95. loss: 0.2419, acc: 92.64%, val_loss 0.4765, val_acc 85.43%\n",
      "Epoch 96. loss: 0.2338, acc: 93.30%, val_loss 0.4771, val_acc 85.48%\n",
      "Epoch 97. loss: 0.2359, acc: 92.70%, val_loss 0.4757, val_acc 85.38%\n",
      "Epoch 98. loss: 0.2310, acc: 93.18%, val_loss 0.4761, val_acc 85.58%\n",
      "Epoch 99. loss: 0.2384, acc: 92.82%, val_loss 0.4766, val_acc 85.63%\n",
      "Epoch 100. loss: 0.2331, acc: 92.93%, val_loss 0.4762, val_acc 85.63%\n",
      "Epoch 101. loss: 0.2371, acc: 92.82%, val_loss 0.4760, val_acc 85.78%\n",
      "Epoch 102. loss: 0.2382, acc: 93.29%, val_loss 0.4763, val_acc 85.78%\n",
      "Epoch 103. loss: 0.2365, acc: 93.02%, val_loss 0.4767, val_acc 85.73%\n",
      "Epoch 104. loss: 0.2325, acc: 92.87%, val_loss 0.4767, val_acc 85.53%\n",
      "Epoch 105. loss: 0.2353, acc: 92.91%, val_loss 0.4769, val_acc 85.58%\n",
      "Epoch 106. loss: 0.2315, acc: 93.25%, val_loss 0.4766, val_acc 85.63%\n",
      "Epoch 107. loss: 0.2321, acc: 93.31%, val_loss 0.4768, val_acc 85.53%\n",
      "Epoch 108. loss: 0.2361, acc: 92.96%, val_loss 0.4764, val_acc 85.48%\n",
      "Epoch 109. loss: 0.2369, acc: 92.77%, val_loss 0.4764, val_acc 85.48%\n",
      "Epoch 110. loss: 0.2301, acc: 93.36%, val_loss 0.4766, val_acc 85.53%\n",
      "Epoch 111. loss: 0.2322, acc: 93.09%, val_loss 0.4766, val_acc 85.58%\n",
      "Epoch 112. loss: 0.2291, acc: 92.96%, val_loss 0.4760, val_acc 85.63%\n",
      "Epoch 113. loss: 0.2329, acc: 93.18%, val_loss 0.4766, val_acc 85.53%\n",
      "Epoch 114. loss: 0.2314, acc: 93.42%, val_loss 0.4768, val_acc 85.68%\n",
      "Epoch 115. loss: 0.2386, acc: 92.74%, val_loss 0.4765, val_acc 85.63%\n",
      "Epoch 116. loss: 0.2331, acc: 93.19%, val_loss 0.4760, val_acc 85.68%\n",
      "Epoch 117. loss: 0.2433, acc: 92.44%, val_loss 0.4764, val_acc 85.63%\n",
      "Epoch 118. loss: 0.2338, acc: 92.80%, val_loss 0.4760, val_acc 85.53%\n",
      "Epoch 119. loss: 0.2333, acc: 93.00%, val_loss 0.4764, val_acc 85.63%\n"
     ]
    },
    {
     "name": "stdout",
     "output_type": "stream",
     "text": [
      "Epoch 120. loss: 0.2372, acc: 92.71%, val_loss 0.4769, val_acc 85.73%\n",
      "Epoch 121. loss: 0.2335, acc: 93.24%, val_loss 0.4768, val_acc 85.73%\n",
      "Epoch 122. loss: 0.2366, acc: 92.73%, val_loss 0.4770, val_acc 85.73%\n",
      "Epoch 123. loss: 0.2348, acc: 93.07%, val_loss 0.4767, val_acc 85.77%\n",
      "Epoch 124. loss: 0.2292, acc: 93.37%, val_loss 0.4769, val_acc 85.58%\n",
      "Epoch 125. loss: 0.2290, acc: 93.37%, val_loss 0.4770, val_acc 85.68%\n",
      "Epoch 126. loss: 0.2319, acc: 93.00%, val_loss 0.4769, val_acc 85.63%\n",
      "Epoch 127. loss: 0.2296, acc: 93.20%, val_loss 0.4771, val_acc 85.63%\n",
      "Epoch 128. loss: 0.2266, acc: 93.01%, val_loss 0.4772, val_acc 85.63%\n",
      "Epoch 129. loss: 0.2355, acc: 92.92%, val_loss 0.4768, val_acc 85.58%\n",
      "Epoch 130. loss: 0.2294, acc: 92.83%, val_loss 0.4770, val_acc 85.63%\n",
      "Epoch 131. loss: 0.2325, acc: 93.21%, val_loss 0.4772, val_acc 85.53%\n",
      "Epoch 132. loss: 0.2348, acc: 93.06%, val_loss 0.4770, val_acc 85.63%\n",
      "Epoch 133. loss: 0.2321, acc: 92.96%, val_loss 0.4771, val_acc 85.53%\n",
      "Epoch 134. loss: 0.2345, acc: 92.60%, val_loss 0.4768, val_acc 85.63%\n",
      "Epoch 135. loss: 0.2297, acc: 93.15%, val_loss 0.4769, val_acc 85.68%\n",
      "Epoch 136. loss: 0.2277, acc: 93.28%, val_loss 0.4768, val_acc 85.43%\n",
      "Epoch 137. loss: 0.2320, acc: 93.11%, val_loss 0.4771, val_acc 85.43%\n",
      "Epoch 138. loss: 0.2281, acc: 93.32%, val_loss 0.4767, val_acc 85.58%\n",
      "Epoch 139. loss: 0.2261, acc: 93.59%, val_loss 0.4767, val_acc 85.53%\n",
      "Epoch 140. loss: 0.2291, acc: 93.26%, val_loss 0.4768, val_acc 85.58%\n",
      "Epoch 141. loss: 0.2330, acc: 93.36%, val_loss 0.4769, val_acc 85.53%\n",
      "Epoch 142. loss: 0.2228, acc: 93.65%, val_loss 0.4769, val_acc 85.63%\n",
      "Epoch 143. loss: 0.2250, acc: 93.08%, val_loss 0.4771, val_acc 85.63%\n",
      "Epoch 144. loss: 0.2312, acc: 92.88%, val_loss 0.4772, val_acc 85.63%\n",
      "Epoch 145. loss: 0.2254, acc: 93.25%, val_loss 0.4771, val_acc 85.63%\n",
      "Epoch 146. loss: 0.2300, acc: 92.93%, val_loss 0.4771, val_acc 85.63%\n",
      "Epoch 147. loss: 0.2257, acc: 93.25%, val_loss 0.4770, val_acc 85.68%\n",
      "Epoch 148. loss: 0.2309, acc: 92.99%, val_loss 0.4771, val_acc 85.68%\n",
      "Epoch 149. loss: 0.2290, acc: 93.15%, val_loss 0.4770, val_acc 85.68%\n",
      "Epoch 150. loss: 0.2263, acc: 93.28%, val_loss 0.4771, val_acc 85.63%\n",
      "Epoch 151. loss: 0.2307, acc: 93.14%, val_loss 0.4772, val_acc 85.48%\n",
      "Epoch 152. loss: 0.2218, acc: 93.60%, val_loss 0.4773, val_acc 85.48%\n",
      "Epoch 153. loss: 0.2289, acc: 93.24%, val_loss 0.4772, val_acc 85.48%\n",
      "Epoch 154. loss: 0.2275, acc: 93.49%, val_loss 0.4772, val_acc 85.53%\n",
      "Epoch 155. loss: 0.2267, acc: 93.30%, val_loss 0.4771, val_acc 85.48%\n",
      "Epoch 156. loss: 0.2298, acc: 93.35%, val_loss 0.4771, val_acc 85.48%\n",
      "Epoch 157. loss: 0.2316, acc: 93.18%, val_loss 0.4772, val_acc 85.53%\n",
      "Epoch 158. loss: 0.2374, acc: 92.91%, val_loss 0.4772, val_acc 85.48%\n",
      "Epoch 159. loss: 0.2312, acc: 92.99%, val_loss 0.4772, val_acc 85.53%\n",
      "Epoch 160. loss: 0.2313, acc: 92.87%, val_loss 0.4771, val_acc 85.53%\n",
      "Epoch 161. loss: 0.2323, acc: 92.71%, val_loss 0.4771, val_acc 85.48%\n",
      "Epoch 162. loss: 0.2294, acc: 93.39%, val_loss 0.4771, val_acc 85.48%\n",
      "Epoch 163. loss: 0.2264, acc: 93.42%, val_loss 0.4771, val_acc 85.43%\n",
      "Epoch 164. loss: 0.2323, acc: 93.05%, val_loss 0.4771, val_acc 85.53%\n",
      "Epoch 165. loss: 0.2290, acc: 93.16%, val_loss 0.4772, val_acc 85.58%\n",
      "Epoch 166. loss: 0.2361, acc: 93.12%, val_loss 0.4772, val_acc 85.58%\n",
      "Epoch 167. loss: 0.2287, acc: 93.01%, val_loss 0.4771, val_acc 85.58%\n",
      "Epoch 168. loss: 0.2240, acc: 93.18%, val_loss 0.4770, val_acc 85.53%\n",
      "Epoch 169. loss: 0.2280, acc: 93.34%, val_loss 0.4770, val_acc 85.58%\n",
      "Epoch 170. loss: 0.2311, acc: 92.88%, val_loss 0.4770, val_acc 85.58%\n",
      "Epoch 171. loss: 0.2267, acc: 93.43%, val_loss 0.4770, val_acc 85.58%\n",
      "Epoch 172. loss: 0.2260, acc: 93.54%, val_loss 0.4769, val_acc 85.58%\n",
      "Epoch 173. loss: 0.2283, acc: 93.33%, val_loss 0.4769, val_acc 85.58%\n",
      "Epoch 174. loss: 0.2276, acc: 93.35%, val_loss 0.4770, val_acc 85.58%\n",
      "Epoch 175. loss: 0.2291, acc: 93.41%, val_loss 0.4770, val_acc 85.48%\n",
      "Epoch 176. loss: 0.2291, acc: 93.27%, val_loss 0.4771, val_acc 85.48%\n",
      "Epoch 177. loss: 0.2266, acc: 93.16%, val_loss 0.4771, val_acc 85.48%\n",
      "Epoch 178. loss: 0.2290, acc: 93.19%, val_loss 0.4772, val_acc 85.53%\n",
      "Epoch 179. loss: 0.2275, acc: 93.16%, val_loss 0.4772, val_acc 85.48%\n",
      "Epoch 180. loss: 0.2296, acc: 93.57%, val_loss 0.4772, val_acc 85.48%\n",
      "Epoch 181. loss: 0.2254, acc: 93.16%, val_loss 0.4772, val_acc 85.48%\n",
      "Epoch 182. loss: 0.2337, acc: 92.87%, val_loss 0.4772, val_acc 85.48%\n",
      "Epoch 183. loss: 0.2257, acc: 93.31%, val_loss 0.4772, val_acc 85.48%\n",
      "Epoch 184. loss: 0.2307, acc: 93.24%, val_loss 0.4772, val_acc 85.48%\n",
      "Epoch 185. loss: 0.2293, acc: 92.76%, val_loss 0.4772, val_acc 85.48%\n",
      "Epoch 186. loss: 0.2321, acc: 93.05%, val_loss 0.4772, val_acc 85.48%\n",
      "Epoch 187. loss: 0.2273, acc: 93.33%, val_loss 0.4772, val_acc 85.48%\n",
      "Epoch 188. loss: 0.2265, acc: 93.37%, val_loss 0.4772, val_acc 85.48%\n",
      "Epoch 189. loss: 0.2309, acc: 93.20%, val_loss 0.4772, val_acc 85.48%\n",
      "Epoch 190. loss: 0.2330, acc: 93.34%, val_loss 0.4772, val_acc 85.48%\n",
      "Epoch 191. loss: 0.2283, acc: 93.56%, val_loss 0.4772, val_acc 85.48%\n",
      "Epoch 192. loss: 0.2306, acc: 93.18%, val_loss 0.4772, val_acc 85.53%\n",
      "Epoch 193. loss: 0.2298, acc: 93.23%, val_loss 0.4772, val_acc 85.48%\n",
      "Epoch 194. loss: 0.2213, acc: 93.62%, val_loss 0.4772, val_acc 85.48%\n",
      "Epoch 195. loss: 0.2226, acc: 93.21%, val_loss 0.4772, val_acc 85.58%\n",
      "Epoch 196. loss: 0.2329, acc: 93.03%, val_loss 0.4773, val_acc 85.53%\n",
      "Epoch 197. loss: 0.2217, acc: 93.43%, val_loss 0.4773, val_acc 85.48%\n",
      "Epoch 198. loss: 0.2295, acc: 92.92%, val_loss 0.4773, val_acc 85.48%\n",
      "Epoch 199. loss: 0.2312, acc: 93.00%, val_loss 0.4772, val_acc 85.48%\n",
      "Epoch 200. loss: 0.2324, acc: 92.87%, val_loss 0.4772, val_acc 85.58%\n"
     ]
    }
   ],
   "source": [
    "net = get_net(ctx)\n",
    "train_loss_list, val_loss_list = train(net, data_iter_train, data_iter_val, ctx, epochs=200, lr=0.01, \\\n",
    "      mome=0.9, wd=1e-4, lr_decay=0.5, lr_period=20)"
   ]
  },
  {
   "cell_type": "code",
   "execution_count": 36,
   "metadata": {},
   "outputs": [
    {
     "data": {
      "text/plain": [
       "(0, 1.5)"
      ]
     },
     "execution_count": 36,
     "metadata": {},
     "output_type": "execute_result"
    },
    {
     "data": {
      "image/png": "[encoded data removed]",
      "text/plain": [
       "<matplotlib.figure.Figure at 0x127dd6438>"
      ]
     },
     "metadata": {},
     "output_type": "display_data"
    }
   ],
   "source": [
    "plt.plot(train_loss_list, label=\"train_loss\")\n",
    "plt.plot(val_loss_list, label=\"val_loss\")\n",
    "plt.legend()\n",
    "plt.ylim([0,1.5])"
   ]
  },
  {
   "cell_type": "code",
   "execution_count": 37,
   "metadata": {},
   "outputs": [],
   "source": [
    "out_softmax = nd.softmax(net(nd.array(resnet18_v2).as_in_context(ctx)))\n",
    "\n",
    "synsets = mx.gluon.data.vision.ImageFolderDataset(\"/Users/shengwan/Desktop/data/train_gy\").synsets\n",
    "ids = sorted(os.listdir(\"/Users/shengwan/Desktop/data/test_gy/0/\"))\n",
    "ids = [i[:-4] for i in ids]\n",
    "\n",
    "df = pd.DataFrame(out_softmax.asnumpy())\n",
    "df.columns = synsets\n",
    "df[\"id\"] = ids\n",
    "df = df[[\"id\"]+synsets]\n",
    "df.to_csv('/Users/shengwan/Desktop/data/pred-resnet18_v2.csv', index=None)"
   ]
  },
  {
   "cell_type": "code",
   "execution_count": null,
   "metadata": {},
   "outputs": [],
   "source": []
  }
 ],
 "metadata": {
  "kernelspec": {
   "display_name": "Python 3",
   "language": "python",
   "name": "python3"
  },
  "language_info": {
   "codemirror_mode": {
    "name": "ipython",
    "version": 3
   },
   "file_extension": ".py",
   "mimetype": "text/x-python",
   "name": "python",
   "nbconvert_exporter": "python",
   "pygments_lexer": "ipython3",
   "version": "3.6.2"
  }
 },
 "nbformat": 4,
 "nbformat_minor": 2
}
