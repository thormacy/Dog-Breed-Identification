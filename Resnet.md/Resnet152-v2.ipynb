{
 "cells": [
  {
   "cell_type": "code",
   "execution_count": 2,
   "metadata": {},
   "outputs": [],
   "source": [
    "import pandas as pd\n",
    "import numpy as np\n",
    "import os\n",
    "import mxnet as mx\n",
    "import shutil"
   ]
  },
  {
   "cell_type": "code",
   "execution_count": 3,
   "metadata": {},
   "outputs": [],
   "source": [
    "data_dir = \"/Users/shengwan/Desktop/data\"\n",
    "train_dir = \"train\"\n",
    "test_dir = \"test\"\n",
    "train_gy_dir = \"train_gy\"\n",
    "test_gy_dir = \"test_gy\""
   ]
  },
  {
   "cell_type": "markdown",
   "metadata": {},
   "source": [
    "## Preprocess"
   ]
  },
  {
   "cell_type": "code",
   "execution_count": 5,
   "metadata": {},
   "outputs": [],
   "source": [
    "# remove original directory\n",
    "train_gy_path = os.path.join(data_dir, train_gy_dir)\n",
    "if os.path.exists(train_gy_path):\n",
    "    shutil.rmtree(train_gy_path)\n",
    "    \n",
    "# make new directory\n",
    "if not os.path.exists(train_gy_path):\n",
    "    os.makedirs(train_gy_path)\n",
    "    \n",
    "# get training data id and labels\n",
    "id_labels = pd.read_csv(os.path.join(data_dir, \"labels.csv\"))\n",
    "\n",
    "# construct sym link between train_dir and train_gy_dir\n",
    "for _, (curr_id, curr_breed) in id_labels.iterrows():\n",
    "    dst_dir = os.path.join(train_gy_path, curr_breed)\n",
    "    if not os.path.exists(dst_dir):\n",
    "        os.makedirs(dst_dir)\n",
    "    src_loc = os.path.join(data_dir, train_dir, curr_id+\".jpg\")\n",
    "    dst_loc = os.path.join(dst_dir, curr_id+\".jpg\")\n",
    "    os.symlink(src_loc, dst_loc)"
   ]
  },
  {
   "cell_type": "code",
   "execution_count": 6,
   "metadata": {},
   "outputs": [],
   "source": [
    "# remove original directory\n",
    "test_gy_path = os.path.join(data_dir, test_gy_dir)\n",
    "if os.path.exists(test_gy_path):\n",
    "    shutil.rmtree(test_gy_path)\n",
    "    \n",
    "# make new directory\n",
    "if not os.path.exists(test_gy_path):\n",
    "    os.makedirs(test_gy_path)\n",
    "\n",
    "# construct sym link between test_dir and test_gy_dir\n",
    "for roor_dir, sub_dir, sub_files in os.walk(os.path.join(data_dir, test_dir)):\n",
    "    for sub_file in sub_files:\n",
    "        dst_dir = os.path.join(test_gy_path, \"0\")\n",
    "        if not os.path.exists(dst_dir):\n",
    "            os.makedirs(dst_dir)\n",
    "        src_loc = os.path.join(data_dir, test_dir, sub_file)\n",
    "        dst_loc = os.path.join(dst_dir, sub_file)\n",
    "        os.symlink(src_loc, dst_loc)"
   ]
  },
  {
   "cell_type": "markdown",
   "metadata": {},
   "source": [
    "## Extract Features"
   ]
  },
  {
   "cell_type": "code",
   "execution_count": 7,
   "metadata": {},
   "outputs": [],
   "source": [
    "import numpy as np\n",
    "import mxnet as mx\n",
    "from mxnet import nd\n",
    "from tqdm import tqdm"
   ]
  },
  {
   "cell_type": "code",
   "execution_count": 8,
   "metadata": {},
   "outputs": [],
   "source": [
    "#Resize images for model\n",
    "preprocess_list = [\n",
    "    lambda img: img.astype(\"float32\")/255,\n",
    "    mx.image.ForceResizeAug((224, 224)),\n",
    "    mx.image.ColorNormalizeAug(mean = [0.485, 0.456, 0.406], std = [0.229, 0.224, 0.225]),\n",
    "    lambda img: nd.transpose(img,(2,0,1))\n",
    "]\n",
    "\n",
    "def image_preprocess(img):\n",
    "    for f in preprocess_list:\n",
    "        img = f(img)\n",
    "    return img"
   ]
  },
  {
   "cell_type": "code",
   "execution_count": 13,
   "metadata": {},
   "outputs": [],
   "source": [
    "#Load Data\n",
    "def transform(img, label):\n",
    "    return image_preprocess(img), label\n",
    "\n",
    "def load_data(data_dir, load_batch_size = 32, f_trans=transform):\n",
    "    imgs = mx.gluon.data.vision.ImageFolderDataset(data_dir, transform=transform)\n",
    "    data = mx.gluon.data.DataLoader(imgs, load_batch_size, last_batch=\"keep\")\n",
    "    return data\n",
    "\n",
    "#Extract features\n",
    "def extract_features(net, data, ctx):\n",
    "    rst_X, rst_y = [], []\n",
    "    for X, y in tqdm(data):\n",
    "        Xi = net.features(X.as_in_context(ctx))\n",
    "        rst_X.append(Xi.asnumpy())\n",
    "        rst_y.append(y.asnumpy())\n",
    "    return np.concatenate(rst_X, axis=0), np.concatenate(rst_y, axis=0) "
   ]
  },
  {
   "cell_type": "code",
   "execution_count": 38,
   "metadata": {},
   "outputs": [],
   "source": [
    "train_data = load_data(\"/Users/shengwan/Desktop/data/train_gy\")\n",
    "test_data = load_data(\"/Users/shengwan/Desktop/data/test_gy\")"
   ]
  },
  {
   "cell_type": "code",
   "execution_count": 39,
   "metadata": {},
   "outputs": [
    {
     "name": "stdout",
     "output_type": "stream",
     "text": [
      "Model file is not found. Downloading.\n",
      "Downloading /Users/shengwan/.mxnet/models/resnet152_v2-64c75ac8.zip from https://apache-mxnet.s3-accelerate.dualstack.amazonaws.com/gluon/models/resnet152_v2-64c75ac8.zip...\n"
     ]
    },
    {
     "name": "stderr",
     "output_type": "stream",
     "text": [
      "100%|██████████| 320/320 [39:04<00:00,  7.33s/it]\n",
      "100%|██████████| 324/324 [39:51<00:00,  7.38s/it]\n"
     ]
    }
   ],
   "source": [
    "# Extract features\n",
    "ctx = mx.cpu()\n",
    "resnet152_v2 = mx.gluon.model_zoo.vision.resnet152_v2(pretrained=True, ctx=ctx)\n",
    "X_train_resnet152_v2, y_train = extract_features(resnet152_v2, train_data, ctx)\n",
    "X_test_resnet152_v2, _ = extract_features(resnet152_v2, test_data, ctx)"
   ]
  },
  {
   "cell_type": "code",
   "execution_count": 40,
   "metadata": {},
   "outputs": [],
   "source": [
    "#Save features\n",
    "import h5py\n",
    "with h5py.File('/Users/shengwan/Desktop/data/resnet152_v2_pretrained_Xy.h5', 'w') as f:\n",
    "    f['X_train_resnet152_v2'] = X_train_resnet152_v2\n",
    "    f['X_test_resnet152_v2'] = X_test_resnet152_v2\n",
    "    f['y_train'] = y_train"
   ]
  },
  {
   "cell_type": "markdown",
   "metadata": {},
   "source": [
    "## Train"
   ]
  },
  {
   "cell_type": "code",
   "execution_count": 41,
   "metadata": {},
   "outputs": [],
   "source": [
    "import numpy as np\n",
    "import h5py\n",
    "import os\n",
    "import mxnet as mx\n",
    "from mxnet import nd\n",
    "from mxnet.gluon import nn\n",
    "from sklearn.model_selection import train_test_split\n",
    "import matplotlib.pyplot as plt\n",
    "import pandas as pd\n",
    "%matplotlib inline"
   ]
  },
  {
   "cell_type": "code",
   "execution_count": 44,
   "metadata": {},
   "outputs": [],
   "source": [
    "#Load Data\n",
    "with h5py.File('/Users/shengwan/Desktop/data/resnet152_v2_pretrained_Xy.h5', 'r') as f:\n",
    "    X_train_resnet152_v2 = np.array(f['X_train_resnet152_v2'])\n",
    "    X_test_resnet152_v2_v2 = np.array(f['X_test_resnet152_v2'])\n",
    "    y_train = np.array(f['y_train'])"
   ]
  },
  {
   "cell_type": "code",
   "execution_count": 47,
   "metadata": {},
   "outputs": [],
   "source": [
    "# Minibatch\n",
    "X_train, X_val, y_train, y_val = train_test_split(X_train_resnet152_v2, y_train, test_size=0.2)\n",
    "\n",
    "# dataset\n",
    "dataset_train = mx.gluon.data.ArrayDataset(nd.array(X_train), nd.array(y_train))\n",
    "dataset_val = mx.gluon.data.ArrayDataset(nd.array(X_val), nd.array(y_val))\n",
    "\n",
    "# data itet\n",
    "batch_size = 128\n",
    "data_iter_train = mx.gluon.data.DataLoader(dataset_train, batch_size, shuffle=True)\n",
    "data_iter_val = mx.gluon.data.DataLoader(dataset_val, batch_size)"
   ]
  },
  {
   "cell_type": "code",
   "execution_count": 48,
   "metadata": {},
   "outputs": [],
   "source": [
    "def accuracy(output, labels):\n",
    "    return nd.mean(nd.argmax(output, axis=1) == labels).asscalar()\n",
    "\n",
    "def evaluate(net, data_iter):\n",
    "    softmax_cross_entropy = mx.gluon.loss.SoftmaxCrossEntropyLoss()\n",
    "    loss, acc, n = 0., 0., 0.\n",
    "    steps = len(data_iter)\n",
    "    for data, label in data_iter:\n",
    "        data, label = data.as_in_context(ctx), label.as_in_context(ctx)\n",
    "        output = net(data)\n",
    "        acc += accuracy(output, label)\n",
    "        loss += nd.mean(softmax_cross_entropy(output, label)).asscalar()\n",
    "    return loss/steps, acc/steps"
   ]
  },
  {
   "cell_type": "code",
   "execution_count": 49,
   "metadata": {},
   "outputs": [],
   "source": [
    "#model\n",
    "ctx = mx.cpu()\n",
    "def get_net(ctx):\n",
    "\n",
    "    net = nn.Sequential()\n",
    "    with net.name_scope():\n",
    "        net.add(nn.Dense(256, activation='relu'))\n",
    "        net.add(nn.Dropout(0.5))\n",
    "        net.add(nn.Dense(120))\n",
    "\n",
    "    net.initialize(ctx=ctx)\n",
    "    return net\n",
    "\n",
    "#train\n",
    "def train(net, data_iter_train, data_iter_val, ctx, \n",
    "          epochs=50, lr=0.01, mome=0.9, wd=1e-4, lr_decay=0.5, lr_period=20):\n",
    "\n",
    "    softmax_cross_entropy = mx.gluon.loss.SoftmaxCrossEntropyLoss()\n",
    "    trainer = mx.gluon.Trainer(net.collect_params(),  'sgd', {'learning_rate': lr, 'momentum': mome, \n",
    "                                      'wd': wd})\n",
    "    \n",
    "    train_loss_list = []\n",
    "    val_loss_list = []\n",
    "    \n",
    "    for epoch in range(epochs):\n",
    "        train_loss = 0.0\n",
    "        train_acc = 0.0\n",
    "        steps = len(data_iter_train)\n",
    "        if epoch > 0 and epoch % lr_period == 0:\n",
    "            trainer.set_learning_rate(trainer.learning_rate * lr_decay)\n",
    "        for X, y in data_iter_train:\n",
    "\n",
    "            X, y = X.as_in_context(ctx), y.as_in_context(ctx)\n",
    "\n",
    "            with mx.autograd.record():\n",
    "                out = net(X)\n",
    "                loss = softmax_cross_entropy(out, y)\n",
    "\n",
    "            loss.backward()\n",
    "            trainer.step(batch_size)\n",
    "\n",
    "            train_loss += nd.mean(loss).asscalar()\n",
    "\n",
    "\n",
    "            train_acc += accuracy(out, y)\n",
    "\n",
    "        val_loss, val_acc = evaluate(net, data_iter_val)\n",
    "        train_loss_list.append(train_loss/steps)\n",
    "        val_loss_list.append(val_loss)\n",
    "        print(\"Epoch %d. loss: %.4f, acc: %.2f%%, val_loss %.4f, val_acc %.2f%%\" % (\n",
    "            epoch+1, train_loss/steps, train_acc/steps*100, val_loss, val_acc*100))\n",
    "        \n",
    "    return train_loss_list, val_loss_list"
   ]
  },
  {
   "cell_type": "code",
   "execution_count": 50,
   "metadata": {},
   "outputs": [
    {
     "name": "stdout",
     "output_type": "stream",
     "text": [
      "Epoch 1. loss: 4.0054, acc: 17.97%, val_loss 2.3848, val_acc 63.91%\n",
      "Epoch 2. loss: 1.7197, acc: 60.16%, val_loss 0.7954, val_acc 86.16%\n",
      "Epoch 3. loss: 0.9432, acc: 75.48%, val_loss 0.5374, val_acc 86.70%\n",
      "Epoch 4. loss: 0.7216, acc: 79.73%, val_loss 0.4391, val_acc 88.51%\n",
      "Epoch 5. loss: 0.6294, acc: 81.48%, val_loss 0.4124, val_acc 88.22%\n",
      "Epoch 6. loss: 0.5489, acc: 83.97%, val_loss 0.3844, val_acc 88.51%\n",
      "Epoch 7. loss: 0.5189, acc: 84.53%, val_loss 0.3639, val_acc 88.85%\n",
      "Epoch 8. loss: 0.4871, acc: 85.80%, val_loss 0.3475, val_acc 89.44%\n",
      "Epoch 9. loss: 0.4461, acc: 85.99%, val_loss 0.3438, val_acc 88.66%\n",
      "Epoch 10. loss: 0.4258, acc: 86.64%, val_loss 0.3349, val_acc 89.29%\n",
      "Epoch 11. loss: 0.4007, acc: 87.75%, val_loss 0.3318, val_acc 89.49%\n",
      "Epoch 12. loss: 0.3985, acc: 87.16%, val_loss 0.3291, val_acc 90.03%\n",
      "Epoch 13. loss: 0.3771, acc: 88.20%, val_loss 0.3209, val_acc 89.29%\n",
      "Epoch 14. loss: 0.3687, acc: 88.37%, val_loss 0.3144, val_acc 89.68%\n",
      "Epoch 15. loss: 0.3513, acc: 88.84%, val_loss 0.3234, val_acc 89.39%\n",
      "Epoch 16. loss: 0.3419, acc: 89.48%, val_loss 0.3151, val_acc 89.64%\n",
      "Epoch 17. loss: 0.3323, acc: 89.66%, val_loss 0.3219, val_acc 89.98%\n",
      "Epoch 18. loss: 0.3268, acc: 90.03%, val_loss 0.3196, val_acc 89.05%\n",
      "Epoch 19. loss: 0.3144, acc: 90.14%, val_loss 0.3116, val_acc 89.49%\n",
      "Epoch 20. loss: 0.3046, acc: 90.33%, val_loss 0.3135, val_acc 89.88%\n",
      "Epoch 21. loss: 0.2912, acc: 90.50%, val_loss 0.3073, val_acc 89.64%\n",
      "Epoch 22. loss: 0.2806, acc: 91.27%, val_loss 0.3100, val_acc 89.73%\n",
      "Epoch 23. loss: 0.2825, acc: 91.46%, val_loss 0.3040, val_acc 90.32%\n",
      "Epoch 24. loss: 0.2727, acc: 91.60%, val_loss 0.3064, val_acc 89.83%\n",
      "Epoch 25. loss: 0.2653, acc: 91.56%, val_loss 0.3033, val_acc 90.22%\n",
      "Epoch 26. loss: 0.2608, acc: 91.84%, val_loss 0.3073, val_acc 89.54%\n",
      "Epoch 27. loss: 0.2575, acc: 91.90%, val_loss 0.3107, val_acc 89.88%\n",
      "Epoch 28. loss: 0.2567, acc: 91.81%, val_loss 0.3045, val_acc 89.83%\n",
      "Epoch 29. loss: 0.2570, acc: 91.87%, val_loss 0.3059, val_acc 89.63%\n",
      "Epoch 30. loss: 0.2551, acc: 91.89%, val_loss 0.3055, val_acc 90.08%\n",
      "Epoch 31. loss: 0.2500, acc: 91.79%, val_loss 0.3070, val_acc 90.03%\n",
      "Epoch 32. loss: 0.2400, acc: 92.54%, val_loss 0.3038, val_acc 89.93%\n",
      "Epoch 33. loss: 0.2441, acc: 92.19%, val_loss 0.3060, val_acc 89.93%\n",
      "Epoch 34. loss: 0.2306, acc: 92.92%, val_loss 0.3039, val_acc 89.78%\n",
      "Epoch 35. loss: 0.2423, acc: 92.29%, val_loss 0.3061, val_acc 90.03%\n",
      "Epoch 36. loss: 0.2359, acc: 92.59%, val_loss 0.3051, val_acc 90.03%\n",
      "Epoch 37. loss: 0.2351, acc: 92.62%, val_loss 0.3064, val_acc 90.03%\n",
      "Epoch 38. loss: 0.2292, acc: 92.84%, val_loss 0.3033, val_acc 90.03%\n",
      "Epoch 39. loss: 0.2282, acc: 92.70%, val_loss 0.3019, val_acc 90.32%\n",
      "Epoch 40. loss: 0.2220, acc: 92.95%, val_loss 0.3046, val_acc 89.93%\n",
      "Epoch 41. loss: 0.2179, acc: 93.21%, val_loss 0.3013, val_acc 89.88%\n",
      "Epoch 42. loss: 0.2152, acc: 93.46%, val_loss 0.3002, val_acc 90.03%\n",
      "Epoch 43. loss: 0.2197, acc: 93.05%, val_loss 0.3032, val_acc 90.17%\n",
      "Epoch 44. loss: 0.2134, acc: 93.22%, val_loss 0.3032, val_acc 89.88%\n",
      "Epoch 45. loss: 0.2164, acc: 93.45%, val_loss 0.3018, val_acc 90.03%\n",
      "Epoch 46. loss: 0.2139, acc: 93.33%, val_loss 0.3009, val_acc 90.17%\n",
      "Epoch 47. loss: 0.2080, acc: 93.80%, val_loss 0.3042, val_acc 90.03%\n",
      "Epoch 48. loss: 0.2133, acc: 93.21%, val_loss 0.3039, val_acc 90.03%\n",
      "Epoch 49. loss: 0.2065, acc: 93.28%, val_loss 0.3046, val_acc 89.83%\n",
      "Epoch 50. loss: 0.2085, acc: 93.75%, val_loss 0.3028, val_acc 89.83%\n",
      "Epoch 51. loss: 0.2058, acc: 93.72%, val_loss 0.3036, val_acc 90.12%\n",
      "Epoch 52. loss: 0.2021, acc: 93.77%, val_loss 0.3058, val_acc 90.03%\n",
      "Epoch 53. loss: 0.2007, acc: 93.75%, val_loss 0.3052, val_acc 89.93%\n",
      "Epoch 54. loss: 0.1988, acc: 93.80%, val_loss 0.3023, val_acc 89.78%\n",
      "Epoch 55. loss: 0.2000, acc: 94.09%, val_loss 0.3032, val_acc 90.27%\n",
      "Epoch 56. loss: 0.2033, acc: 93.70%, val_loss 0.3024, val_acc 89.83%\n",
      "Epoch 57. loss: 0.1994, acc: 93.45%, val_loss 0.3022, val_acc 90.12%\n",
      "Epoch 58. loss: 0.1988, acc: 93.61%, val_loss 0.3037, val_acc 89.93%\n",
      "Epoch 59. loss: 0.1971, acc: 93.62%, val_loss 0.3052, val_acc 89.98%\n",
      "Epoch 60. loss: 0.1948, acc: 93.64%, val_loss 0.3041, val_acc 90.12%\n",
      "Epoch 61. loss: 0.1925, acc: 94.18%, val_loss 0.3036, val_acc 89.93%\n",
      "Epoch 62. loss: 0.1936, acc: 94.06%, val_loss 0.3028, val_acc 89.68%\n",
      "Epoch 63. loss: 0.1938, acc: 94.07%, val_loss 0.3018, val_acc 90.07%\n",
      "Epoch 64. loss: 0.1926, acc: 93.95%, val_loss 0.3024, val_acc 90.22%\n",
      "Epoch 65. loss: 0.1917, acc: 94.49%, val_loss 0.3024, val_acc 90.02%\n",
      "Epoch 66. loss: 0.1893, acc: 94.40%, val_loss 0.3027, val_acc 89.98%\n",
      "Epoch 67. loss: 0.1856, acc: 94.40%, val_loss 0.3028, val_acc 89.98%\n",
      "Epoch 68. loss: 0.1890, acc: 94.25%, val_loss 0.3021, val_acc 90.07%\n",
      "Epoch 69. loss: 0.1915, acc: 93.85%, val_loss 0.3008, val_acc 90.08%\n",
      "Epoch 70. loss: 0.1885, acc: 94.10%, val_loss 0.3031, val_acc 89.98%\n",
      "Epoch 71. loss: 0.1881, acc: 94.40%, val_loss 0.3032, val_acc 90.17%\n",
      "Epoch 72. loss: 0.1844, acc: 94.25%, val_loss 0.3039, val_acc 90.07%\n",
      "Epoch 73. loss: 0.1899, acc: 94.16%, val_loss 0.3043, val_acc 89.88%\n",
      "Epoch 74. loss: 0.1858, acc: 94.27%, val_loss 0.3034, val_acc 89.93%\n",
      "Epoch 75. loss: 0.1875, acc: 94.48%, val_loss 0.3030, val_acc 90.07%\n",
      "Epoch 76. loss: 0.1847, acc: 94.41%, val_loss 0.3028, val_acc 90.12%\n",
      "Epoch 77. loss: 0.1858, acc: 94.27%, val_loss 0.3024, val_acc 90.17%\n",
      "Epoch 78. loss: 0.1905, acc: 93.96%, val_loss 0.3030, val_acc 89.78%\n",
      "Epoch 79. loss: 0.1788, acc: 94.50%, val_loss 0.3031, val_acc 89.88%\n",
      "Epoch 80. loss: 0.1837, acc: 94.20%, val_loss 0.3041, val_acc 89.93%\n",
      "Epoch 81. loss: 0.1837, acc: 94.39%, val_loss 0.3043, val_acc 89.88%\n",
      "Epoch 82. loss: 0.1853, acc: 94.23%, val_loss 0.3032, val_acc 89.88%\n",
      "Epoch 83. loss: 0.1818, acc: 94.32%, val_loss 0.3033, val_acc 89.98%\n",
      "Epoch 84. loss: 0.1820, acc: 94.47%, val_loss 0.3034, val_acc 90.02%\n",
      "Epoch 85. loss: 0.1822, acc: 94.69%, val_loss 0.3028, val_acc 90.07%\n",
      "Epoch 86. loss: 0.1751, acc: 94.78%, val_loss 0.3033, val_acc 89.93%\n",
      "Epoch 87. loss: 0.1801, acc: 94.48%, val_loss 0.3022, val_acc 89.93%\n",
      "Epoch 88. loss: 0.1776, acc: 94.39%, val_loss 0.3028, val_acc 90.17%\n",
      "Epoch 89. loss: 0.1787, acc: 94.36%, val_loss 0.3025, val_acc 90.22%\n",
      "Epoch 90. loss: 0.1850, acc: 94.40%, val_loss 0.3036, val_acc 90.22%\n",
      "Epoch 91. loss: 0.1815, acc: 94.58%, val_loss 0.3034, val_acc 90.17%\n",
      "Epoch 92. loss: 0.1715, acc: 94.72%, val_loss 0.3037, val_acc 90.03%\n",
      "Epoch 93. loss: 0.1835, acc: 94.34%, val_loss 0.3038, val_acc 90.08%\n",
      "Epoch 94. loss: 0.1793, acc: 94.44%, val_loss 0.3037, val_acc 90.08%\n",
      "Epoch 95. loss: 0.1790, acc: 94.33%, val_loss 0.3035, val_acc 89.83%\n",
      "Epoch 96. loss: 0.1786, acc: 94.50%, val_loss 0.3033, val_acc 90.12%\n",
      "Epoch 97. loss: 0.1782, acc: 94.50%, val_loss 0.3037, val_acc 90.08%\n",
      "Epoch 98. loss: 0.1739, acc: 94.83%, val_loss 0.3040, val_acc 89.98%\n",
      "Epoch 99. loss: 0.1721, acc: 94.90%, val_loss 0.3039, val_acc 89.98%\n",
      "Epoch 100. loss: 0.1740, acc: 94.84%, val_loss 0.3040, val_acc 90.07%\n",
      "Epoch 101. loss: 0.1769, acc: 94.58%, val_loss 0.3041, val_acc 89.88%\n",
      "Epoch 102. loss: 0.1753, acc: 94.77%, val_loss 0.3033, val_acc 89.93%\n",
      "Epoch 103. loss: 0.1736, acc: 94.85%, val_loss 0.3032, val_acc 89.98%\n",
      "Epoch 104. loss: 0.1791, acc: 94.61%, val_loss 0.3033, val_acc 90.03%\n",
      "Epoch 105. loss: 0.1719, acc: 94.71%, val_loss 0.3033, val_acc 90.02%\n",
      "Epoch 106. loss: 0.1734, acc: 94.68%, val_loss 0.3038, val_acc 89.98%\n",
      "Epoch 107. loss: 0.1785, acc: 94.57%, val_loss 0.3039, val_acc 90.02%\n",
      "Epoch 108. loss: 0.1777, acc: 94.71%, val_loss 0.3037, val_acc 89.93%\n",
      "Epoch 109. loss: 0.1731, acc: 94.93%, val_loss 0.3035, val_acc 89.88%\n",
      "Epoch 110. loss: 0.1799, acc: 94.51%, val_loss 0.3035, val_acc 89.88%\n",
      "Epoch 111. loss: 0.1788, acc: 94.62%, val_loss 0.3039, val_acc 89.88%\n",
      "Epoch 112. loss: 0.1762, acc: 94.51%, val_loss 0.3040, val_acc 89.98%\n",
      "Epoch 113. loss: 0.1758, acc: 94.74%, val_loss 0.3038, val_acc 89.83%\n",
      "Epoch 114. loss: 0.1723, acc: 94.66%, val_loss 0.3036, val_acc 89.88%\n",
      "Epoch 115. loss: 0.1746, acc: 94.67%, val_loss 0.3031, val_acc 89.83%\n",
      "Epoch 116. loss: 0.1792, acc: 94.55%, val_loss 0.3034, val_acc 89.98%\n",
      "Epoch 117. loss: 0.1712, acc: 95.01%, val_loss 0.3038, val_acc 90.03%\n",
      "Epoch 118. loss: 0.1815, acc: 94.15%, val_loss 0.3037, val_acc 89.98%\n",
      "Epoch 119. loss: 0.1683, acc: 95.09%, val_loss 0.3038, val_acc 90.08%\n"
     ]
    },
    {
     "name": "stdout",
     "output_type": "stream",
     "text": [
      "Epoch 120. loss: 0.1740, acc: 94.76%, val_loss 0.3041, val_acc 90.03%\n",
      "Epoch 121. loss: 0.1729, acc: 94.73%, val_loss 0.3040, val_acc 90.08%\n",
      "Epoch 122. loss: 0.1749, acc: 94.50%, val_loss 0.3041, val_acc 90.08%\n",
      "Epoch 123. loss: 0.1782, acc: 94.79%, val_loss 0.3041, val_acc 90.08%\n",
      "Epoch 124. loss: 0.1725, acc: 95.04%, val_loss 0.3041, val_acc 90.03%\n",
      "Epoch 125. loss: 0.1717, acc: 94.71%, val_loss 0.3040, val_acc 90.03%\n",
      "Epoch 126. loss: 0.1705, acc: 95.24%, val_loss 0.3040, val_acc 90.08%\n",
      "Epoch 127. loss: 0.1731, acc: 94.77%, val_loss 0.3040, val_acc 89.98%\n",
      "Epoch 128. loss: 0.1693, acc: 94.96%, val_loss 0.3042, val_acc 89.98%\n",
      "Epoch 129. loss: 0.1780, acc: 94.79%, val_loss 0.3040, val_acc 89.93%\n",
      "Epoch 130. loss: 0.1752, acc: 94.70%, val_loss 0.3039, val_acc 89.88%\n",
      "Epoch 131. loss: 0.1799, acc: 94.50%, val_loss 0.3038, val_acc 89.98%\n",
      "Epoch 132. loss: 0.1734, acc: 94.69%, val_loss 0.3038, val_acc 89.98%\n",
      "Epoch 133. loss: 0.1764, acc: 94.69%, val_loss 0.3038, val_acc 89.93%\n",
      "Epoch 134. loss: 0.1732, acc: 94.89%, val_loss 0.3037, val_acc 89.98%\n",
      "Epoch 135. loss: 0.1797, acc: 94.40%, val_loss 0.3038, val_acc 89.98%\n",
      "Epoch 136. loss: 0.1737, acc: 94.76%, val_loss 0.3037, val_acc 89.93%\n",
      "Epoch 137. loss: 0.1741, acc: 94.57%, val_loss 0.3037, val_acc 89.93%\n",
      "Epoch 138. loss: 0.1766, acc: 94.42%, val_loss 0.3038, val_acc 90.12%\n",
      "Epoch 139. loss: 0.1723, acc: 94.78%, val_loss 0.3038, val_acc 90.12%\n",
      "Epoch 140. loss: 0.1791, acc: 94.44%, val_loss 0.3038, val_acc 90.03%\n",
      "Epoch 141. loss: 0.1742, acc: 94.91%, val_loss 0.3038, val_acc 90.08%\n",
      "Epoch 142. loss: 0.1780, acc: 94.23%, val_loss 0.3037, val_acc 90.08%\n",
      "Epoch 143. loss: 0.1751, acc: 94.76%, val_loss 0.3038, val_acc 90.12%\n",
      "Epoch 144. loss: 0.1721, acc: 95.09%, val_loss 0.3039, val_acc 90.08%\n",
      "Epoch 145. loss: 0.1681, acc: 94.89%, val_loss 0.3039, val_acc 90.03%\n",
      "Epoch 146. loss: 0.1770, acc: 94.54%, val_loss 0.3039, val_acc 90.08%\n",
      "Epoch 147. loss: 0.1698, acc: 94.89%, val_loss 0.3038, val_acc 90.12%\n",
      "Epoch 148. loss: 0.1629, acc: 95.10%, val_loss 0.3038, val_acc 90.08%\n",
      "Epoch 149. loss: 0.1748, acc: 94.78%, val_loss 0.3038, val_acc 90.17%\n",
      "Epoch 150. loss: 0.1667, acc: 95.07%, val_loss 0.3038, val_acc 90.03%\n",
      "Epoch 151. loss: 0.1742, acc: 94.82%, val_loss 0.3038, val_acc 90.03%\n",
      "Epoch 152. loss: 0.1743, acc: 94.83%, val_loss 0.3038, val_acc 90.03%\n",
      "Epoch 153. loss: 0.1760, acc: 94.76%, val_loss 0.3037, val_acc 89.98%\n",
      "Epoch 154. loss: 0.1712, acc: 94.98%, val_loss 0.3037, val_acc 89.93%\n",
      "Epoch 155. loss: 0.1703, acc: 95.01%, val_loss 0.3038, val_acc 89.93%\n",
      "Epoch 156. loss: 0.1748, acc: 94.79%, val_loss 0.3038, val_acc 90.08%\n",
      "Epoch 157. loss: 0.1720, acc: 94.70%, val_loss 0.3036, val_acc 90.12%\n",
      "Epoch 158. loss: 0.1715, acc: 94.81%, val_loss 0.3037, val_acc 90.03%\n",
      "Epoch 159. loss: 0.1740, acc: 94.64%, val_loss 0.3036, val_acc 90.12%\n",
      "Epoch 160. loss: 0.1719, acc: 94.74%, val_loss 0.3036, val_acc 90.03%\n",
      "Epoch 161. loss: 0.1737, acc: 94.82%, val_loss 0.3036, val_acc 90.03%\n",
      "Epoch 162. loss: 0.1736, acc: 94.77%, val_loss 0.3036, val_acc 90.08%\n",
      "Epoch 163. loss: 0.1677, acc: 94.90%, val_loss 0.3036, val_acc 90.03%\n",
      "Epoch 164. loss: 0.1669, acc: 95.14%, val_loss 0.3036, val_acc 90.03%\n",
      "Epoch 165. loss: 0.1710, acc: 94.81%, val_loss 0.3036, val_acc 90.03%\n",
      "Epoch 166. loss: 0.1673, acc: 94.96%, val_loss 0.3036, val_acc 90.03%\n",
      "Epoch 167. loss: 0.1717, acc: 94.99%, val_loss 0.3036, val_acc 90.03%\n",
      "Epoch 168. loss: 0.1743, acc: 94.81%, val_loss 0.3036, val_acc 90.03%\n",
      "Epoch 169. loss: 0.1799, acc: 94.63%, val_loss 0.3036, val_acc 89.98%\n",
      "Epoch 170. loss: 0.1729, acc: 94.79%, val_loss 0.3036, val_acc 90.08%\n",
      "Epoch 171. loss: 0.1777, acc: 94.67%, val_loss 0.3036, val_acc 89.93%\n",
      "Epoch 172. loss: 0.1656, acc: 95.26%, val_loss 0.3036, val_acc 89.98%\n",
      "Epoch 173. loss: 0.1746, acc: 94.75%, val_loss 0.3036, val_acc 89.93%\n",
      "Epoch 174. loss: 0.1711, acc: 94.88%, val_loss 0.3036, val_acc 89.93%\n",
      "Epoch 175. loss: 0.1726, acc: 94.70%, val_loss 0.3037, val_acc 89.93%\n",
      "Epoch 176. loss: 0.1708, acc: 94.87%, val_loss 0.3037, val_acc 90.03%\n",
      "Epoch 177. loss: 0.1729, acc: 94.54%, val_loss 0.3037, val_acc 89.98%\n",
      "Epoch 178. loss: 0.1724, acc: 94.89%, val_loss 0.3037, val_acc 89.93%\n",
      "Epoch 179. loss: 0.1687, acc: 94.97%, val_loss 0.3037, val_acc 89.98%\n",
      "Epoch 180. loss: 0.1665, acc: 95.19%, val_loss 0.3037, val_acc 89.93%\n",
      "Epoch 181. loss: 0.1707, acc: 94.72%, val_loss 0.3037, val_acc 89.93%\n",
      "Epoch 182. loss: 0.1676, acc: 94.95%, val_loss 0.3037, val_acc 89.93%\n",
      "Epoch 183. loss: 0.1734, acc: 94.51%, val_loss 0.3037, val_acc 89.98%\n",
      "Epoch 184. loss: 0.1726, acc: 94.78%, val_loss 0.3037, val_acc 89.98%\n",
      "Epoch 185. loss: 0.1761, acc: 94.93%, val_loss 0.3037, val_acc 89.98%\n",
      "Epoch 186. loss: 0.1733, acc: 94.83%, val_loss 0.3037, val_acc 89.98%\n",
      "Epoch 187. loss: 0.1714, acc: 94.89%, val_loss 0.3037, val_acc 89.98%\n",
      "Epoch 188. loss: 0.1670, acc: 95.14%, val_loss 0.3037, val_acc 89.98%\n",
      "Epoch 189. loss: 0.1673, acc: 94.90%, val_loss 0.3037, val_acc 89.98%\n",
      "Epoch 190. loss: 0.1739, acc: 94.65%, val_loss 0.3037, val_acc 89.98%\n",
      "Epoch 191. loss: 0.1770, acc: 94.80%, val_loss 0.3037, val_acc 89.98%\n",
      "Epoch 192. loss: 0.1722, acc: 94.52%, val_loss 0.3037, val_acc 89.93%\n",
      "Epoch 193. loss: 0.1711, acc: 94.80%, val_loss 0.3037, val_acc 89.93%\n",
      "Epoch 194. loss: 0.1765, acc: 94.63%, val_loss 0.3037, val_acc 89.98%\n",
      "Epoch 195. loss: 0.1733, acc: 94.69%, val_loss 0.3037, val_acc 89.93%\n",
      "Epoch 196. loss: 0.1702, acc: 94.73%, val_loss 0.3037, val_acc 89.93%\n",
      "Epoch 197. loss: 0.1738, acc: 94.65%, val_loss 0.3037, val_acc 89.93%\n",
      "Epoch 198. loss: 0.1674, acc: 95.08%, val_loss 0.3037, val_acc 89.93%\n",
      "Epoch 199. loss: 0.1741, acc: 94.74%, val_loss 0.3037, val_acc 89.93%\n",
      "Epoch 200. loss: 0.1768, acc: 94.54%, val_loss 0.3037, val_acc 89.88%\n"
     ]
    }
   ],
   "source": [
    "net = get_net(ctx)\n",
    "train_loss_list, val_loss_list = train(net, data_iter_train, data_iter_val, ctx, epochs=200, lr=0.01, \\\n",
    "      mome=0.9, wd=1e-4, lr_decay=0.5, lr_period=20)"
   ]
  },
  {
   "cell_type": "code",
   "execution_count": 51,
   "metadata": {},
   "outputs": [
    {
     "data": {
      "text/plain": [
       "(0, 1.5)"
      ]
     },
     "execution_count": 51,
     "metadata": {},
     "output_type": "execute_result"
    },
    {
     "data": {
      "image/png": "[encoded data removed]",
      "text/plain": [
       "<matplotlib.figure.Figure at 0x1263ce2b0>"
      ]
     },
     "metadata": {},
     "output_type": "display_data"
    }
   ],
   "source": [
    "plt.plot(train_loss_list, label=\"train_loss\")\n",
    "plt.plot(val_loss_list, label=\"val_loss\")\n",
    "plt.legend()\n",
    "plt.ylim([0,1.5])"
   ]
  },
  {
   "cell_type": "code",
   "execution_count": 52,
   "metadata": {},
   "outputs": [],
   "source": [
    "out_softmax = nd.softmax(net(nd.array(X_test_resnet152_v2).as_in_context(ctx)))\n",
    "\n",
    "synsets = mx.gluon.data.vision.ImageFolderDataset(\"/Users/shengwan/Desktop/data/train_gy\").synsets\n",
    "ids = sorted(os.listdir(\"/Users/shengwan/Desktop/data/test_gy/0/\"))\n",
    "ids = [i[:-4] for i in ids]\n",
    "\n",
    "df = pd.DataFrame(out_softmax.asnumpy())\n",
    "df.columns = synsets\n",
    "df[\"id\"] = ids\n",
    "df = df[[\"id\"]+synsets]\n",
    "df.to_csv('/Users/shengwan/Desktop/data/pred-resnet152_v2.csv', index=None)"
   ]
  },
  {
   "cell_type": "code",
   "execution_count": null,
   "metadata": {},
   "outputs": [],
   "source": []
  }
 ],
 "metadata": {
  "kernelspec": {
   "display_name": "Python 3",
   "language": "python",
   "name": "python3"
  },
  "language_info": {
   "codemirror_mode": {
    "name": "ipython",
    "version": 3
   },
   "file_extension": ".py",
   "mimetype": "text/x-python",
   "name": "python",
   "nbconvert_exporter": "python",
   "pygments_lexer": "ipython3",
   "version": "3.6.2"
  }
 },
 "nbformat": 4,
 "nbformat_minor": 2
}
